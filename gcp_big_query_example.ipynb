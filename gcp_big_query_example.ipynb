{
 "cells": [
  {
   "cell_type": "markdown",
   "metadata": {},
   "source": [
    "# gcp bigquery"
   ]
  },
  {
   "cell_type": "code",
   "execution_count": 11,
   "metadata": {
    "collapsed": true
   },
   "outputs": [],
   "source": [
    "# https://googleapis.dev/python/bigquery/latest/usage/pandas.html"
   ]
  },
  {
   "cell_type": "code",
   "execution_count": 12,
   "metadata": {
    "collapsed": true
   },
   "outputs": [],
   "source": [
    "# Cloud console way to run SQL\n",
    "# https://console.cloud.google.com/bigquery"
   ]
  },
  {
   "cell_type": "code",
   "execution_count": 57,
   "metadata": {
    "collapsed": true
   },
   "outputs": [],
   "source": [
    "import geopandas"
   ]
  },
  {
   "cell_type": "code",
   "execution_count": 55,
   "metadata": {
    "collapsed": false
   },
   "outputs": [
    {
     "name": "stdout",
     "output_type": "stream",
     "text": [
      "Client creating using default project: pythonproject-330909\n"
     ]
    }
   ],
   "source": [
    "from google.cloud import bigquery\n",
    "client = bigquery.Client()#location=\"EU\")\n",
    "print(f\"Client creating using default project: {client.project}\")"
   ]
  },
  {
   "cell_type": "markdown",
   "metadata": {},
   "source": [
    "To explicitly specify a project when constructing the client, set the project parameter"
   ]
  },
  {
   "cell_type": "code",
   "execution_count": 20,
   "metadata": {
    "collapsed": true
   },
   "outputs": [],
   "source": [
    "# client = bigquery.Client(location=\"US\", project = \"your-project-id\")"
   ]
  },
  {
   "cell_type": "code",
   "execution_count": null,
   "metadata": {
    "collapsed": true
   },
   "outputs": [],
   "source": [
    "# Login to the VM using a Service Account that is authorised to access bigquery as admin\n",
    "# Note: json containing key is stored on VM\n",
    "# Steps set out in the following: -\n",
    "# https://jingsblogcom.wordpress.com/2018/11/27/connect-your-jupyter-notebook-to-the-bigquery/amp/"
   ]
  },
  {
   "cell_type": "code",
   "execution_count": 32,
   "metadata": {
    "collapsed": true
   },
   "outputs": [],
   "source": [
    "import os\n",
    "os.environ['GOOGLE_APPLICATION_CREDENTIALS'] = '/home/markeholland70/key/pythonproject-330909-d0fd17649eb3.json'"
   ]
  },
  {
   "cell_type": "code",
   "execution_count": 45,
   "metadata": {
    "collapsed": true
   },
   "outputs": [],
   "source": [
    "QUERY = \"\"\"\n",
    "SELECT * \n",
    "FROM pythonproject-330909.datascience.fraud_dataset_v1 \n",
    "LIMIT 1000\n",
    "\"\"\""
   ]
  },
  {
   "cell_type": "code",
   "execution_count": 46,
   "metadata": {
    "collapsed": false
   },
   "outputs": [],
   "source": [
    "# Run the query and get the data\n",
    "query_job = client.query(QUERY)"
   ]
  },
  {
   "cell_type": "code",
   "execution_count": 47,
   "metadata": {
    "collapsed": false
   },
   "outputs": [
    {
     "data": {
      "text/html": [
       "<div>\n",
       "<style scoped>\n",
       "    .dataframe tbody tr th:only-of-type {\n",
       "        vertical-align: middle;\n",
       "    }\n",
       "\n",
       "    .dataframe tbody tr th {\n",
       "        vertical-align: top;\n",
       "    }\n",
       "\n",
       "    .dataframe thead th {\n",
       "        text-align: right;\n",
       "    }\n",
       "</style>\n",
       "<table border=\"1\" class=\"dataframe\">\n",
       "  <thead>\n",
       "    <tr style=\"text-align: right;\">\n",
       "      <th></th>\n",
       "      <th>WAERS</th>\n",
       "      <th>BUKRS</th>\n",
       "      <th>KTOSL</th>\n",
       "      <th>BELNR</th>\n",
       "      <th>BSCHL</th>\n",
       "      <th>HKONT</th>\n",
       "      <th>DMBTR</th>\n",
       "      <th>WRBTR</th>\n",
       "      <th>label</th>\n",
       "    </tr>\n",
       "  </thead>\n",
       "  <tbody>\n",
       "    <tr>\n",
       "      <th>0</th>\n",
       "      <td>N09</td>\n",
       "      <td>A43</td>\n",
       "      <td>U50</td>\n",
       "      <td>C72</td>\n",
       "      <td>I53</td>\n",
       "      <td>F05</td>\n",
       "      <td>9.244551e+07</td>\n",
       "      <td>5.958504e+07</td>\n",
       "      <td>global</td>\n",
       "    </tr>\n",
       "    <tr>\n",
       "      <th>1</th>\n",
       "      <td>T68</td>\n",
       "      <td>A89</td>\n",
       "      <td>L29</td>\n",
       "      <td>H65</td>\n",
       "      <td>I26</td>\n",
       "      <td>Q69</td>\n",
       "      <td>9.244550e+07</td>\n",
       "      <td>5.958502e+07</td>\n",
       "      <td>global</td>\n",
       "    </tr>\n",
       "    <tr>\n",
       "      <th>2</th>\n",
       "      <td>D88</td>\n",
       "      <td>B37</td>\n",
       "      <td>D51</td>\n",
       "      <td>F69</td>\n",
       "      <td>N50</td>\n",
       "      <td>M13</td>\n",
       "      <td>9.244552e+07</td>\n",
       "      <td>5.958504e+07</td>\n",
       "      <td>global</td>\n",
       "    </tr>\n",
       "    <tr>\n",
       "      <th>3</th>\n",
       "      <td>E26</td>\n",
       "      <td>B76</td>\n",
       "      <td>C39</td>\n",
       "      <td>U14</td>\n",
       "      <td>R07</td>\n",
       "      <td>T45</td>\n",
       "      <td>9.244552e+07</td>\n",
       "      <td>5.958504e+07</td>\n",
       "      <td>global</td>\n",
       "    </tr>\n",
       "    <tr>\n",
       "      <th>4</th>\n",
       "      <td>C1</td>\n",
       "      <td>C10</td>\n",
       "      <td>C1</td>\n",
       "      <td>C10</td>\n",
       "      <td>A1</td>\n",
       "      <td>B1</td>\n",
       "      <td>1.542210e+06</td>\n",
       "      <td>0.000000e+00</td>\n",
       "      <td>regular</td>\n",
       "    </tr>\n",
       "  </tbody>\n",
       "</table>\n",
       "</div>"
      ],
      "text/plain": [
       "  WAERS BUKRS KTOSL BELNR BSCHL HKONT         DMBTR         WRBTR    label\n",
       "0   N09   A43   U50   C72   I53   F05  9.244551e+07  5.958504e+07   global\n",
       "1   T68   A89   L29   H65   I26   Q69  9.244550e+07  5.958502e+07   global\n",
       "2   D88   B37   D51   F69   N50   M13  9.244552e+07  5.958504e+07   global\n",
       "3   E26   B76   C39   U14   R07   T45  9.244552e+07  5.958504e+07   global\n",
       "4    C1   C10    C1   C10    A1    B1  1.542210e+06  0.000000e+00  regular"
      ]
     },
     "execution_count": 47,
     "metadata": {},
     "output_type": "execute_result"
    }
   ],
   "source": [
    "df = query_job.to_dataframe()\n",
    "df.head()"
   ]
  },
  {
   "cell_type": "code",
   "execution_count": 48,
   "metadata": {
    "collapsed": false
   },
   "outputs": [],
   "source": [
    "sql = \"\"\"\n",
    "    SELECT name, SUM(number) as count\n",
    "    FROM bigquery-public-data.usa_names.usa_1910_current\n",
    "    GROUP BY name\n",
    "    ORDER BY count DESC\n",
    "    LIMIT 10\n",
    "\"\"\"\n",
    "\n",
    "df = client.query(sql).to_dataframe()"
   ]
  },
  {
   "cell_type": "code",
   "execution_count": 49,
   "metadata": {
    "collapsed": false
   },
   "outputs": [
    {
     "data": {
      "text/html": [
       "<div>\n",
       "<style scoped>\n",
       "    .dataframe tbody tr th:only-of-type {\n",
       "        vertical-align: middle;\n",
       "    }\n",
       "\n",
       "    .dataframe tbody tr th {\n",
       "        vertical-align: top;\n",
       "    }\n",
       "\n",
       "    .dataframe thead th {\n",
       "        text-align: right;\n",
       "    }\n",
       "</style>\n",
       "<table border=\"1\" class=\"dataframe\">\n",
       "  <thead>\n",
       "    <tr style=\"text-align: right;\">\n",
       "      <th></th>\n",
       "      <th>name</th>\n",
       "      <th>count</th>\n",
       "    </tr>\n",
       "  </thead>\n",
       "  <tbody>\n",
       "    <tr>\n",
       "      <th>0</th>\n",
       "      <td>James</td>\n",
       "      <td>5041499</td>\n",
       "    </tr>\n",
       "    <tr>\n",
       "      <th>1</th>\n",
       "      <td>John</td>\n",
       "      <td>4902713</td>\n",
       "    </tr>\n",
       "    <tr>\n",
       "      <th>2</th>\n",
       "      <td>Robert</td>\n",
       "      <td>4758640</td>\n",
       "    </tr>\n",
       "    <tr>\n",
       "      <th>3</th>\n",
       "      <td>Michael</td>\n",
       "      <td>4387274</td>\n",
       "    </tr>\n",
       "    <tr>\n",
       "      <th>4</th>\n",
       "      <td>William</td>\n",
       "      <td>3927657</td>\n",
       "    </tr>\n",
       "    <tr>\n",
       "      <th>5</th>\n",
       "      <td>Mary</td>\n",
       "      <td>3755452</td>\n",
       "    </tr>\n",
       "    <tr>\n",
       "      <th>6</th>\n",
       "      <td>David</td>\n",
       "      <td>3623464</td>\n",
       "    </tr>\n",
       "    <tr>\n",
       "      <th>7</th>\n",
       "      <td>Richard</td>\n",
       "      <td>2548809</td>\n",
       "    </tr>\n",
       "    <tr>\n",
       "      <th>8</th>\n",
       "      <td>Joseph</td>\n",
       "      <td>2546281</td>\n",
       "    </tr>\n",
       "    <tr>\n",
       "      <th>9</th>\n",
       "      <td>Charles</td>\n",
       "      <td>2293389</td>\n",
       "    </tr>\n",
       "  </tbody>\n",
       "</table>\n",
       "</div>"
      ],
      "text/plain": [
       "      name    count\n",
       "0    James  5041499\n",
       "1     John  4902713\n",
       "2   Robert  4758640\n",
       "3  Michael  4387274\n",
       "4  William  3927657\n",
       "5     Mary  3755452\n",
       "6    David  3623464\n",
       "7  Richard  2548809\n",
       "8   Joseph  2546281\n",
       "9  Charles  2293389"
      ]
     },
     "execution_count": 49,
     "metadata": {},
     "output_type": "execute_result"
    }
   ],
   "source": [
    "df"
   ]
  },
  {
   "cell_type": "code",
   "execution_count": 52,
   "metadata": {
    "collapsed": false
   },
   "outputs": [
    {
     "data": {
      "text/html": [
       "<div>\n",
       "<style scoped>\n",
       "    .dataframe tbody tr th:only-of-type {\n",
       "        vertical-align: middle;\n",
       "    }\n",
       "\n",
       "    .dataframe tbody tr th {\n",
       "        vertical-align: top;\n",
       "    }\n",
       "\n",
       "    .dataframe thead th {\n",
       "        text-align: right;\n",
       "    }\n",
       "</style>\n",
       "<table border=\"1\" class=\"dataframe\">\n",
       "  <thead>\n",
       "    <tr style=\"text-align: right;\">\n",
       "      <th></th>\n",
       "      <th>word</th>\n",
       "      <th>word_count</th>\n",
       "    </tr>\n",
       "  </thead>\n",
       "  <tbody>\n",
       "    <tr>\n",
       "      <th>0</th>\n",
       "      <td>the</td>\n",
       "      <td>614</td>\n",
       "    </tr>\n",
       "    <tr>\n",
       "      <th>1</th>\n",
       "      <td>I</td>\n",
       "      <td>577</td>\n",
       "    </tr>\n",
       "    <tr>\n",
       "      <th>2</th>\n",
       "      <td>and</td>\n",
       "      <td>490</td>\n",
       "    </tr>\n",
       "    <tr>\n",
       "      <th>3</th>\n",
       "      <td>to</td>\n",
       "      <td>486</td>\n",
       "    </tr>\n",
       "    <tr>\n",
       "      <th>4</th>\n",
       "      <td>a</td>\n",
       "      <td>407</td>\n",
       "    </tr>\n",
       "    <tr>\n",
       "      <th>5</th>\n",
       "      <td>of</td>\n",
       "      <td>367</td>\n",
       "    </tr>\n",
       "    <tr>\n",
       "      <th>6</th>\n",
       "      <td>my</td>\n",
       "      <td>314</td>\n",
       "    </tr>\n",
       "    <tr>\n",
       "      <th>7</th>\n",
       "      <td>is</td>\n",
       "      <td>307</td>\n",
       "    </tr>\n",
       "    <tr>\n",
       "      <th>8</th>\n",
       "      <td>in</td>\n",
       "      <td>291</td>\n",
       "    </tr>\n",
       "    <tr>\n",
       "      <th>9</th>\n",
       "      <td>you</td>\n",
       "      <td>271</td>\n",
       "    </tr>\n",
       "    <tr>\n",
       "      <th>10</th>\n",
       "      <td>that</td>\n",
       "      <td>270</td>\n",
       "    </tr>\n",
       "    <tr>\n",
       "      <th>11</th>\n",
       "      <td>me</td>\n",
       "      <td>263</td>\n",
       "    </tr>\n",
       "  </tbody>\n",
       "</table>\n",
       "</div>"
      ],
      "text/plain": [
       "    word  word_count\n",
       "0    the         614\n",
       "1      I         577\n",
       "2    and         490\n",
       "3     to         486\n",
       "4      a         407\n",
       "5     of         367\n",
       "6     my         314\n",
       "7     is         307\n",
       "8     in         291\n",
       "9    you         271\n",
       "10  that         270\n",
       "11    me         263"
      ]
     },
     "execution_count": 52,
     "metadata": {},
     "output_type": "execute_result"
    }
   ],
   "source": [
    "# Define the query\n",
    "sql = \"\"\"\n",
    "SELECT word, word_count\n",
    "FROM bigquery-public-data.samples.shakespeare\n",
    "WHERE corpus = @corpus\n",
    "AND word_count >= @min_word_count\n",
    "ORDER BY word_count DESC;\n",
    "\"\"\"\n",
    "\n",
    "# Define the parameter values in a query job configuration\n",
    "job_config = bigquery.QueryJobConfig(\n",
    "    query_parameters= [ \n",
    "        bigquery.ScalarQueryParameter(\"corpus\",\"STRING\",\"romeoandjuliet\"),\n",
    "        bigquery.ScalarQueryParameter(\"min_word_count\",\"INT64\", 250),])\n",
    "\n",
    "# Start the query job\n",
    "query_job = client.query(sql, location=\"US\", job_config=job_config)\n",
    "\n",
    "# Return the resutls as a pandas DataFrame\n",
    "query_job.to_dataframe()"
   ]
  },
  {
   "cell_type": "code",
   "execution_count": 58,
   "metadata": {
    "collapsed": false
   },
   "outputs": [],
   "source": [
    "# To import rows\n",
    "project = \"pythonproject-330909\"\n",
    "dataset_id = \"datascience\"\n",
    "\n",
    "dataset_ref = bigquery.DatasetReference(project, dataset_id)\n",
    "table_ref = dataset_ref.table(\"fraud_dataset_v1\")\n",
    "table = client.get_table(table_ref)\n",
    "\n",
    "df = client.list_rows(table).to_dataframe()"
   ]
  },
  {
   "cell_type": "code",
   "execution_count": 26,
   "metadata": {
    "collapsed": true
   },
   "outputs": [],
   "source": [
    "project = \"bigquery-public-data\"\n",
    "dataset_id = \"samples\"\n",
    "\n",
    "dataset_ref = bigquery.DatasetReference(project, dataset_id)\n",
    "table_ref = dataset_ref.table(\"shakespeare\")\n",
    "table = client.get_table(table_ref)\n",
    "\n",
    "df = client.list_rows(table).to_dataframe()"
   ]
  },
  {
   "cell_type": "code",
   "execution_count": 8,
   "metadata": {
    "collapsed": false
   },
   "outputs": [
    {
     "data": {
      "text/html": [
       "<div>\n",
       "<style scoped>\n",
       "    .dataframe tbody tr th:only-of-type {\n",
       "        vertical-align: middle;\n",
       "    }\n",
       "\n",
       "    .dataframe tbody tr th {\n",
       "        vertical-align: top;\n",
       "    }\n",
       "\n",
       "    .dataframe thead th {\n",
       "        text-align: right;\n",
       "    }\n",
       "</style>\n",
       "<table border=\"1\" class=\"dataframe\">\n",
       "  <thead>\n",
       "    <tr style=\"text-align: right;\">\n",
       "      <th></th>\n",
       "      <th>word</th>\n",
       "      <th>word_count</th>\n",
       "      <th>corpus</th>\n",
       "      <th>corpus_date</th>\n",
       "    </tr>\n",
       "  </thead>\n",
       "  <tbody>\n",
       "    <tr>\n",
       "      <th>0</th>\n",
       "      <td>LVII</td>\n",
       "      <td>1</td>\n",
       "      <td>sonnets</td>\n",
       "      <td>0</td>\n",
       "    </tr>\n",
       "    <tr>\n",
       "      <th>1</th>\n",
       "      <td>augurs</td>\n",
       "      <td>1</td>\n",
       "      <td>sonnets</td>\n",
       "      <td>0</td>\n",
       "    </tr>\n",
       "    <tr>\n",
       "      <th>2</th>\n",
       "      <td>dimm'd</td>\n",
       "      <td>1</td>\n",
       "      <td>sonnets</td>\n",
       "      <td>0</td>\n",
       "    </tr>\n",
       "    <tr>\n",
       "      <th>3</th>\n",
       "      <td>plagues</td>\n",
       "      <td>1</td>\n",
       "      <td>sonnets</td>\n",
       "      <td>0</td>\n",
       "    </tr>\n",
       "    <tr>\n",
       "      <th>4</th>\n",
       "      <td>treason</td>\n",
       "      <td>1</td>\n",
       "      <td>sonnets</td>\n",
       "      <td>0</td>\n",
       "    </tr>\n",
       "    <tr>\n",
       "      <th>...</th>\n",
       "      <td>...</td>\n",
       "      <td>...</td>\n",
       "      <td>...</td>\n",
       "      <td>...</td>\n",
       "    </tr>\n",
       "    <tr>\n",
       "      <th>164651</th>\n",
       "      <td>that</td>\n",
       "      <td>232</td>\n",
       "      <td>kinghenryviii</td>\n",
       "      <td>1612</td>\n",
       "    </tr>\n",
       "    <tr>\n",
       "      <th>164652</th>\n",
       "      <td>his</td>\n",
       "      <td>234</td>\n",
       "      <td>kinghenryviii</td>\n",
       "      <td>1612</td>\n",
       "    </tr>\n",
       "    <tr>\n",
       "      <th>164653</th>\n",
       "      <td>me</td>\n",
       "      <td>235</td>\n",
       "      <td>kinghenryviii</td>\n",
       "      <td>1612</td>\n",
       "    </tr>\n",
       "    <tr>\n",
       "      <th>164654</th>\n",
       "      <td>your</td>\n",
       "      <td>242</td>\n",
       "      <td>kinghenryviii</td>\n",
       "      <td>1612</td>\n",
       "    </tr>\n",
       "    <tr>\n",
       "      <th>164655</th>\n",
       "      <td>in</td>\n",
       "      <td>255</td>\n",
       "      <td>kinghenryviii</td>\n",
       "      <td>1612</td>\n",
       "    </tr>\n",
       "  </tbody>\n",
       "</table>\n",
       "<p>164656 rows × 4 columns</p>\n",
       "</div>"
      ],
      "text/plain": [
       "           word  word_count         corpus  corpus_date\n",
       "0          LVII           1        sonnets            0\n",
       "1        augurs           1        sonnets            0\n",
       "2        dimm'd           1        sonnets            0\n",
       "3       plagues           1        sonnets            0\n",
       "4       treason           1        sonnets            0\n",
       "...         ...         ...            ...          ...\n",
       "164651     that         232  kinghenryviii         1612\n",
       "164652      his         234  kinghenryviii         1612\n",
       "164653       me         235  kinghenryviii         1612\n",
       "164654     your         242  kinghenryviii         1612\n",
       "164655       in         255  kinghenryviii         1612\n",
       "\n",
       "[164656 rows x 4 columns]"
      ]
     },
     "execution_count": 8,
     "metadata": {},
     "output_type": "execute_result"
    }
   ],
   "source": [
    "df"
   ]
  },
  {
   "cell_type": "code",
   "execution_count": 56,
   "metadata": {
    "collapsed": false
   },
   "outputs": [
    {
     "ename": "ValueError",
     "evalue": "The geopandas library is not installed, please install geopandas to use the to_geodataframe() function.",
     "output_type": "error",
     "traceback": [
      "\u001b[0;31m---------------------------------------------------------------------------\u001b[0m",
      "\u001b[0;31mValueError\u001b[0m                                Traceback (most recent call last)",
      "\u001b[0;32m/tmp/ipykernel_3107/2837813457.py\u001b[0m in \u001b[0;36m<module>\u001b[0;34m\u001b[0m\n\u001b[1;32m      6\u001b[0m \"\"\"\n\u001b[1;32m      7\u001b[0m \u001b[0;34m\u001b[0m\u001b[0m\n\u001b[0;32m----> 8\u001b[0;31m \u001b[0mdf\u001b[0m \u001b[0;34m=\u001b[0m \u001b[0mclient\u001b[0m\u001b[0;34m.\u001b[0m\u001b[0mquery\u001b[0m\u001b[0;34m(\u001b[0m\u001b[0msql\u001b[0m\u001b[0;34m)\u001b[0m\u001b[0;34m.\u001b[0m\u001b[0mto_geodataframe\u001b[0m\u001b[0;34m(\u001b[0m\u001b[0;34m)\u001b[0m\u001b[0;34m\u001b[0m\u001b[0;34m\u001b[0m\u001b[0m\n\u001b[0m",
      "\u001b[0;32m~/anaconda3/envs/py38/lib/python3.8/site-packages/google/cloud/bigquery/job/query.py\u001b[0m in \u001b[0;36mto_geodataframe\u001b[0;34m(self, bqstorage_client, dtypes, progress_bar_type, create_bqstorage_client, date_as_object, max_results, geography_column)\u001b[0m\n\u001b[1;32m   1736\u001b[0m         \"\"\"\n\u001b[1;32m   1737\u001b[0m         \u001b[0mquery_result\u001b[0m \u001b[0;34m=\u001b[0m \u001b[0mwait_for_query\u001b[0m\u001b[0;34m(\u001b[0m\u001b[0mself\u001b[0m\u001b[0;34m,\u001b[0m \u001b[0mprogress_bar_type\u001b[0m\u001b[0;34m,\u001b[0m \u001b[0mmax_results\u001b[0m\u001b[0;34m=\u001b[0m\u001b[0mmax_results\u001b[0m\u001b[0;34m)\u001b[0m\u001b[0;34m\u001b[0m\u001b[0;34m\u001b[0m\u001b[0m\n\u001b[0;32m-> 1738\u001b[0;31m         return query_result.to_geodataframe(\n\u001b[0m\u001b[1;32m   1739\u001b[0m             \u001b[0mbqstorage_client\u001b[0m\u001b[0;34m=\u001b[0m\u001b[0mbqstorage_client\u001b[0m\u001b[0;34m,\u001b[0m\u001b[0;34m\u001b[0m\u001b[0;34m\u001b[0m\u001b[0m\n\u001b[1;32m   1740\u001b[0m             \u001b[0mdtypes\u001b[0m\u001b[0;34m=\u001b[0m\u001b[0mdtypes\u001b[0m\u001b[0;34m,\u001b[0m\u001b[0;34m\u001b[0m\u001b[0;34m\u001b[0m\u001b[0m\n",
      "\u001b[0;32m~/anaconda3/envs/py38/lib/python3.8/site-packages/google/cloud/bigquery/table.py\u001b[0m in \u001b[0;36mto_geodataframe\u001b[0;34m(self, bqstorage_client, dtypes, progress_bar_type, create_bqstorage_client, date_as_object, geography_column)\u001b[0m\n\u001b[1;32m   2056\u001b[0m         \"\"\"\n\u001b[1;32m   2057\u001b[0m         \u001b[0;32mif\u001b[0m \u001b[0mgeopandas\u001b[0m \u001b[0;32mis\u001b[0m \u001b[0;32mNone\u001b[0m\u001b[0;34m:\u001b[0m\u001b[0;34m\u001b[0m\u001b[0;34m\u001b[0m\u001b[0m\n\u001b[0;32m-> 2058\u001b[0;31m             \u001b[0;32mraise\u001b[0m \u001b[0mValueError\u001b[0m\u001b[0;34m(\u001b[0m\u001b[0m_NO_GEOPANDAS_ERROR\u001b[0m\u001b[0;34m)\u001b[0m\u001b[0;34m\u001b[0m\u001b[0;34m\u001b[0m\u001b[0m\n\u001b[0m\u001b[1;32m   2059\u001b[0m \u001b[0;34m\u001b[0m\u001b[0m\n\u001b[1;32m   2060\u001b[0m         geography_columns = set(\n",
      "\u001b[0;31mValueError\u001b[0m: The geopandas library is not installed, please install geopandas to use the to_geodataframe() function."
     ]
    }
   ],
   "source": [
    "sql = \"\"\"\n",
    "    SELECT created_date, complaint_description,\n",
    "           ST_GEOGPOINT(longitude, latitude) as location\n",
    "    FROM bigquery-public-data.austin_311.311_service_requests\n",
    "    LIMIT 10\n",
    "\"\"\"\n",
    "\n",
    "df = client.query(sql).to_geodataframe()"
   ]
  },
  {
   "cell_type": "code",
   "execution_count": 59,
   "metadata": {
    "collapsed": false
   },
   "outputs": [
    {
     "name": "stdout",
     "output_type": "stream",
     "text": [
      "Loaded 4 rows and 6 columns to pythonproject-330909.persondata.table1\n"
     ]
    }
   ],
   "source": [
    "import datetime\n",
    "\n",
    "from google.cloud import bigquery\n",
    "import pandas\n",
    "import pytz\n",
    "\n",
    "# Construct a BigQuery client object.\n",
    "client = bigquery.Client()\n",
    "\n",
    "# TODO(developer): Set table_id to the ID of the table to create.\n",
    "# table_id = \"your-project.your_dataset.your_table_name\"\n",
    "table_id = \"pythonproject-330909.persondata.table1\"\n",
    "records = [\n",
    "    {\n",
    "        \"title\": u\"The Meaning of Life\",\n",
    "        \"release_year\": 1983,\n",
    "        \"length_minutes\": 112.5,\n",
    "        \"release_date\": pytz.timezone(\"Europe/Paris\")\n",
    "        .localize(datetime.datetime(1983, 5, 9, 13, 0, 0))\n",
    "        .astimezone(pytz.utc),\n",
    "        # Assume UTC timezone when a datetime object contains no timezone.\n",
    "        \"dvd_release\": datetime.datetime(2002, 1, 22, 7, 0, 0),\n",
    "    },\n",
    "    {\n",
    "        \"title\": u\"Monty Python and the Holy Grail\",\n",
    "        \"release_year\": 1975,\n",
    "        \"length_minutes\": 91.5,\n",
    "        \"release_date\": pytz.timezone(\"Europe/London\")\n",
    "        .localize(datetime.datetime(1975, 4, 9, 23, 59, 2))\n",
    "        .astimezone(pytz.utc),\n",
    "        \"dvd_release\": datetime.datetime(2002, 7, 16, 9, 0, 0),\n",
    "    },\n",
    "    {\n",
    "        \"title\": u\"Life of Brian\",\n",
    "        \"release_year\": 1979,\n",
    "        \"length_minutes\": 94.25,\n",
    "        \"release_date\": pytz.timezone(\"America/New_York\")\n",
    "        .localize(datetime.datetime(1979, 8, 17, 23, 59, 5))\n",
    "        .astimezone(pytz.utc),\n",
    "        \"dvd_release\": datetime.datetime(2008, 1, 14, 8, 0, 0),\n",
    "    },\n",
    "    {\n",
    "        \"title\": u\"And Now for Something Completely Different\",\n",
    "        \"release_year\": 1971,\n",
    "        \"length_minutes\": 88.0,\n",
    "        \"release_date\": pytz.timezone(\"Europe/London\")\n",
    "        .localize(datetime.datetime(1971, 9, 28, 23, 59, 7))\n",
    "        .astimezone(pytz.utc),\n",
    "        \"dvd_release\": datetime.datetime(2003, 10, 22, 10, 0, 0),\n",
    "    },\n",
    "]\n",
    "dataframe = pandas.DataFrame(\n",
    "    records,\n",
    "    # In the loaded table, the column order reflects the order of the\n",
    "    # columns in the DataFrame.\n",
    "    columns=[\n",
    "        \"title\",\n",
    "        \"release_year\",\n",
    "        \"length_minutes\",\n",
    "        \"release_date\",\n",
    "        \"dvd_release\",\n",
    "    ],\n",
    "    # Optionally, set a named index, which can also be written to the\n",
    "    # BigQuery table.\n",
    "    index=pandas.Index(\n",
    "        [u\"Q24980\", u\"Q25043\", u\"Q24953\", u\"Q16403\"], name=\"wikidata_id\"\n",
    "    ),\n",
    ")\n",
    "job_config = bigquery.LoadJobConfig(\n",
    "    # Specify a (partial) schema. All columns are always written to the\n",
    "    # table. The schema is used to assist in data type definitions.\n",
    "    schema=[\n",
    "        # Specify the type of columns whose type cannot be auto-detected. For\n",
    "        # example the \"title\" column uses pandas dtype \"object\", so its\n",
    "        # data type is ambiguous.\n",
    "        bigquery.SchemaField(\"title\", bigquery.enums.SqlTypeNames.STRING),\n",
    "        # Indexes are written if included in the schema by name.\n",
    "        bigquery.SchemaField(\"wikidata_id\", bigquery.enums.SqlTypeNames.STRING),\n",
    "    ],\n",
    "    # Optionally, set the write disposition. BigQuery appends loaded rows\n",
    "    # to an existing table by default, but with WRITE_TRUNCATE write\n",
    "    # disposition it replaces the table with the loaded data.\n",
    "    write_disposition=\"WRITE_TRUNCATE\",\n",
    ")\n",
    "\n",
    "job = client.load_table_from_dataframe(\n",
    "    dataframe, table_id, job_config=job_config\n",
    ")  # Make an API request.\n",
    "job.result()  # Wait for the job to complete.\n",
    "\n",
    "table = client.get_table(table_id)  # Make an API request.\n",
    "print(\n",
    "    \"Loaded {} rows and {} columns to {}\".format(\n",
    "        table.num_rows, len(table.schema), table_id\n",
    "    )\n",
    ")"
   ]
  },
  {
   "cell_type": "code",
   "execution_count": null,
   "metadata": {
    "collapsed": true
   },
   "outputs": [],
   "source": []
  }
 ],
 "metadata": {
  "kernelspec": {
   "display_name": "py38",
   "language": "python",
   "name": "py38"
  },
  "language_info": {
   "codemirror_mode": {
    "name": "ipython",
    "version": 3
   },
   "file_extension": ".py",
   "mimetype": "text/x-python",
   "name": "python",
   "nbconvert_exporter": "python",
   "pygments_lexer": "ipython3",
   "version": "3.8.12"
  }
 },
 "nbformat": 4,
 "nbformat_minor": 5
}
