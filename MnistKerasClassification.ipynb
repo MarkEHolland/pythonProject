{
 "cells": [
  {
   "cell_type": "markdown",
   "metadata": {
    "colab_type": "text",
    "id": "view-in-github"
   },
   "source": [
    "<a href=\"https://colab.research.google.com/github/swilsonmfc/deeplearning/blob/master/MnistKerasClassification.ipynb\" target=\"_parent\"><img src=\"https://colab.research.google.com/assets/colab-badge.svg\" alt=\"Open In Colab\"/></a>"
   ]
  },
  {
   "cell_type": "markdown",
   "metadata": {
    "colab_type": "text",
    "id": "PLjmJAcZZzmD"
   },
   "source": [
    "# MNIST Classification\n",
    "* Simple convnet to classify hand written digits"
   ]
  },
  {
   "cell_type": "code",
   "execution_count": 1,
   "metadata": {
    "colab": {
     "base_uri": "https://localhost:8080/",
     "height": 34
    },
    "colab_type": "code",
    "id": "vp7Z4xMAZqWA",
    "outputId": "ea3ef8a5-d5ed-46d7-bdd8-d9817c5bd2f3"
   },
   "outputs": [
    {
     "name": "stderr",
     "output_type": "stream",
     "text": [
      "C:\\Users\\marke\\anaconda3\\envs\\tf-gpu\\lib\\site-packages\\numpy\\_distributor_init.py:30: UserWarning: loaded more than 1 DLL from .libs:\n",
      "C:\\Users\\marke\\anaconda3\\envs\\tf-gpu\\lib\\site-packages\\numpy\\.libs\\libopenblas.PYQHXLVVQ7VESDPUVUADXEVJOBGHJPAY.gfortran-win_amd64.dll\n",
      "C:\\Users\\marke\\anaconda3\\envs\\tf-gpu\\lib\\site-packages\\numpy\\.libs\\libopenblas.WCDJNK7YVMPZQ2ME2ZZHJJRJ3JIKNDB7.gfortran-win_amd64.dll\n",
      "  warnings.warn(\"loaded more than 1 DLL from .libs:\"\n"
     ]
    }
   ],
   "source": [
    "from keras.datasets import mnist\n",
    "\n",
    "from keras import layers\n",
    "from keras import models\n",
    "from keras import metrics\n",
    "from keras import losses\n",
    "\n",
    "from keras.utils import to_categorical"
   ]
  },
  {
   "cell_type": "markdown",
   "metadata": {
    "colab_type": "text",
    "id": "km-b3CBoZ4id"
   },
   "source": [
    "# Data"
   ]
  },
  {
   "cell_type": "code",
   "execution_count": 2,
   "metadata": {
    "colab": {
     "base_uri": "https://localhost:8080/",
     "height": 51
    },
    "colab_type": "code",
    "id": "0WzBQMy1ZqNl",
    "outputId": "51540a32-b185-44e1-e049-d2344c719468"
   },
   "outputs": [],
   "source": [
    "[train_img, train_labels], [test_img, test_labels] = mnist.load_data()\n",
    "train_img = train_img.reshape((60000, 28, 28, 1))\n",
    "train_img = train_img.astype('float32') / 255\n",
    "\n",
    "test_img = test_img.reshape((10000, 28, 28, 1))\n",
    "test_img = test_img.astype('float32') / 255\n",
    "\n",
    "train_labels = to_categorical(train_labels)\n",
    "test_labels  = to_categorical(test_labels)"
   ]
  },
  {
   "cell_type": "markdown",
   "metadata": {
    "colab_type": "text",
    "id": "QnPizKMCavDU"
   },
   "source": [
    "# Model\n",
    "* Convnet taking in tensors (img_height, img_width, img_channels)\n",
    "* For mnist these are (28, 28, 1)\n",
    "* Image height, Image width 28 X 28\n",
    "* Grey scale (1 channel)\n",
    "* By contrast color images have 3 channels (RGB)\n",
    "* To get our Convnet to output classes we:\n",
    " * Flatten our convnet\n",
    " * Pass through a dense layer\n",
    " * Output a size 10 softmax dense layer\n",
    " * The softmax gives us the probability of the image belonging to the image class 0-9"
   ]
  },
  {
   "cell_type": "code",
   "execution_count": 3,
   "metadata": {
    "colab": {
     "base_uri": "https://localhost:8080/",
     "height": 581
    },
    "colab_type": "code",
    "id": "p1bNHjPLa1rf",
    "outputId": "f8a0559e-712b-4679-ae36-a7f5730bf324"
   },
   "outputs": [
    {
     "name": "stdout",
     "output_type": "stream",
     "text": [
      "Model: \"sequential\"\n",
      "_________________________________________________________________\n",
      "Layer (type)                 Output Shape              Param #   \n",
      "=================================================================\n",
      "conv2d (Conv2D)              (None, 26, 26, 32)        320       \n",
      "_________________________________________________________________\n",
      "max_pooling2d (MaxPooling2D) (None, 13, 13, 32)        0         \n",
      "_________________________________________________________________\n",
      "conv2d_1 (Conv2D)            (None, 11, 11, 64)        18496     \n",
      "_________________________________________________________________\n",
      "max_pooling2d_1 (MaxPooling2 (None, 5, 5, 64)          0         \n",
      "_________________________________________________________________\n",
      "conv2d_2 (Conv2D)            (None, 3, 3, 64)          36928     \n",
      "_________________________________________________________________\n",
      "flatten (Flatten)            (None, 576)               0         \n",
      "_________________________________________________________________\n",
      "dense (Dense)                (None, 64)                36928     \n",
      "_________________________________________________________________\n",
      "dense_1 (Dense)              (None, 10)                650       \n",
      "=================================================================\n",
      "Total params: 93,322\n",
      "Trainable params: 93,322\n",
      "Non-trainable params: 0\n",
      "_________________________________________________________________\n"
     ]
    }
   ],
   "source": [
    "model = models.Sequential()\n",
    "model.add(layers.Conv2D(32, (3, 3), activation='relu', input_shape=(28, 28, 1)))\n",
    "model.add(layers.MaxPooling2D(2, 2))\n",
    "model.add(layers.Conv2D(64, (3, 3), activation='relu'))\n",
    "model.add(layers.MaxPooling2D(2, 2))\n",
    "model.add(layers.Conv2D(64, (3, 3), activation='relu'))\n",
    "model.add(layers.Flatten())\n",
    "model.add(layers.Dense(64, activation='relu'))\n",
    "model.add(layers.Dense(10, activation='softmax'))\n",
    "model.summary()"
   ]
  },
  {
   "cell_type": "markdown",
   "metadata": {
    "colab_type": "text",
    "id": "bFHpvda6cySi"
   },
   "source": [
    "# Compile & Fit\n",
    "* Normally, we'd add a validation set\n",
    "* Look for our training stop point\n",
    "* Output graphs etc\n",
    "* Here we're just going to train and look at loss on test\n",
    "* Timing:\n",
    " * On a CPU ~ 5 minutes\n",
    " * On a GPU ~ 45 seconds\n",
    "* Overall we're really accurate without much effort (almost 99%)\n"
   ]
  },
  {
   "cell_type": "code",
   "execution_count": 4,
   "metadata": {
    "colab": {
     "base_uri": "https://localhost:8080/",
     "height": 411
    },
    "colab_type": "code",
    "id": "Sq4Mgifmc1LA",
    "outputId": "43b81852-41ca-4195-d03e-1cd6f2c89528"
   },
   "outputs": [
    {
     "name": "stdout",
     "output_type": "stream",
     "text": [
      "Epoch 1/5\n",
      "938/938 [==============================] - 6s 6ms/step - loss: 0.1782 - accuracy: 0.9443\n",
      "Epoch 2/5\n",
      "938/938 [==============================] - 5s 6ms/step - loss: 0.0466 - accuracy: 0.9854:  - ETA: 1s - loss: 0\n",
      "Epoch 3/5\n",
      "938/938 [==============================] - 5s 5ms/step - loss: 0.0321 - accuracy: 0.9896\n",
      "Epoch 4/5\n",
      "938/938 [==============================] - 5s 5ms/step - loss: 0.0242 - accuracy: 0.9924\n",
      "Epoch 5/5\n",
      "938/938 [==============================] - 5s 6ms/step - loss: 0.0192 - accuracy: 0.9942\n",
      "313/313 [==============================] - 1s 3ms/step - loss: 0.0300 - accuracy: 0.9920\n",
      "Test Loss 0.03000163659453392\n",
      "Test Accuracy 0.9919999837875366\n"
     ]
    }
   ],
   "source": [
    "model.compile(optimizer='rmsprop',\n",
    "             loss='categorical_crossentropy',\n",
    "             metrics=['accuracy'])\n",
    "model.fit(train_img, train_labels, epochs=5, batch_size=64)\n",
    "loss, acc = model.evaluate(test_img, test_labels)\n",
    "print('Test Loss', loss)\n",
    "print('Test Accuracy', acc)"
   ]
  },
  {
   "cell_type": "code",
   "execution_count": null,
   "metadata": {
    "colab": {},
    "colab_type": "code",
    "id": "_-bqwVVVeBfa"
   },
   "outputs": [],
   "source": []
  }
 ],
 "metadata": {
  "accelerator": "GPU",
  "colab": {
   "collapsed_sections": [],
   "include_colab_link": true,
   "name": "MnistKerasClassification.ipynb",
   "provenance": []
  },
  "kernelspec": {
   "display_name": "Python 3",
   "language": "python",
   "name": "python3"
  },
  "language_info": {
   "codemirror_mode": {
    "name": "ipython",
    "version": 3
   },
   "file_extension": ".py",
   "mimetype": "text/x-python",
   "name": "python",
   "nbconvert_exporter": "python",
   "pygments_lexer": "ipython3",
   "version": "3.8.8"
  }
 },
 "nbformat": 4,
 "nbformat_minor": 1
}
