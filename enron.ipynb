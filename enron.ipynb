{
 "cells": [
  {
   "cell_type": "code",
   "execution_count": 1,
   "metadata": {},
   "outputs": [],
   "source": [
    "# enron email classification\n",
    "\n",
    "# Kaggle NN script to process enron classes  - n.b. I couldn't get hold of the datafile\n",
    "# https://www.kaggle.com/markholland/enron-email-classification-using-word-embeddings/edit\n",
    "\n",
    "# Script with Random Forests\n",
    "# https://github.com/crossedbanana/Enron-Email-Classification\n",
    "\n",
    "# Clean the enron emails i.e. extract message, from, to, date, time\n",
    "# https://www.kaggle.com/ankur561999/data-cleaning-enron-email-dataset\n",
    "\n",
    "\n",
    "# https://www.kaggle.com/ankur561999/enron-email-classification-using-machine-learning"
   ]
  },
  {
   "cell_type": "code",
   "execution_count": 2,
   "metadata": {},
   "outputs": [
    {
     "name": "stderr",
     "output_type": "stream",
     "text": [
      "C:\\Users\\marke\\anaconda3\\envs\\tf-gpu\\lib\\site-packages\\numpy\\_distributor_init.py:30: UserWarning: loaded more than 1 DLL from .libs:\n",
      "C:\\Users\\marke\\anaconda3\\envs\\tf-gpu\\lib\\site-packages\\numpy\\.libs\\libopenblas.PYQHXLVVQ7VESDPUVUADXEVJOBGHJPAY.gfortran-win_amd64.dll\n",
      "C:\\Users\\marke\\anaconda3\\envs\\tf-gpu\\lib\\site-packages\\numpy\\.libs\\libopenblas.WCDJNK7YVMPZQ2ME2ZZHJJRJ3JIKNDB7.gfortran-win_amd64.dll\n",
      "  warnings.warn(\"loaded more than 1 DLL from .libs:\"\n"
     ]
    }
   ],
   "source": [
    "import numpy as np\n",
    "import pandas as pd\n",
    "import time\n",
    "import collections\n",
    "import re\n",
    "import random\n",
    "import scipy.io\n",
    "import glob\n",
    "\n",
    "from sklearn.feature_extraction.text import CountVectorizer\n",
    "from sklearn.feature_extraction.text import TfidfTransformer\n",
    "from sklearn.feature_extraction.text import TfidfVectorizer\n",
    "from sklearn.svm import LinearSVC, SVC\n",
    "from sklearn import preprocessing\n",
    "from sklearn.metrics import accuracy_score, confusion_matrix\n",
    "#from sklearn import cross_validation, metrics   # cross_validation is deprecated\n",
    "from sklearn.model_selection import cross_validate #,metrics\n",
    "\n",
    "from sklearn.model_selection import GridSearchCV \n",
    "\n",
    "#from sklearn.grid_search import GridSearchCV   #Perforing grid search\n",
    "from sklearn.feature_selection import SelectKBest\n",
    "from sklearn.naive_bayes import BernoulliNB\n",
    "from sklearn.ensemble import RandomForestClassifier\n",
    "from sklearn.discriminant_analysis import LinearDiscriminantAnalysis\n",
    "from sklearn.discriminant_analysis import QuadraticDiscriminantAnalysis\n",
    "from sklearn.linear_model import LogisticRegression\n",
    "from sklearn.tree import DecisionTreeClassifier\n",
    "from sklearn.ensemble import AdaBoostClassifier\n",
    "\n",
    "#from sklearn import cross_validation, metrics   #Additional scklearn functions\n",
    "#from sklearn.grid_search import GridSearchCV\n",
    "\n",
    "#import xgboost as xgb\n",
    "#from xgboost.sklearn import XGBClassifier\n",
    "#from nltk import PorterStemmer"
   ]
  },
  {
   "cell_type": "code",
   "execution_count": 3,
   "metadata": {},
   "outputs": [],
   "source": [
    "import matplotlib.pyplot as plt\n",
    "import warnings\n",
    "warnings.filterwarnings('ignore')\n",
    "\n",
    "import tensorflow as tf\n",
    "import tensorflow.keras as keras\n",
    "from tensorflow.keras.models import Sequential, Model\n",
    "from tensorflow.keras.layers import Dense, Flatten, LSTM, Embedding, Input, Conv1D, MaxPooling1D\n",
    "#from tensorflow.keras.layers.merge import concatenate\n",
    "from tensorflow.keras.layers import Dropout\n",
    "from tensorflow.keras.preprocessing.text import one_hot\n",
    "from tensorflow.keras.preprocessing.text import Tokenizer\n",
    "from tensorflow.keras.preprocessing.sequence import pad_sequences\n",
    "from tensorflow.keras.utils import to_categorical\n",
    "#from tensorflow.keras.utils.vis_utils import plot_model\n",
    "from tensorflow.keras.optimizers import Adam, SGD, RMSprop\n",
    "from tensorflow.keras.callbacks import EarlyStopping\n",
    "\n",
    "from gensim.models import KeyedVectors\n",
    "from gensim.models import Word2Vec\n",
    "from gensim.scripts.glove2word2vec import glove2word2vec\n",
    "import time\n",
    "\n",
    "from sklearn.preprocessing import LabelEncoder\n",
    "from sklearn.model_selection import train_test_split\n",
    "from nltk.tokenize import word_tokenize"
   ]
  },
  {
   "cell_type": "code",
   "execution_count": 4,
   "metadata": {},
   "outputs": [],
   "source": [
    "import os\n",
    "import email"
   ]
  },
  {
   "cell_type": "code",
   "execution_count": 5,
   "metadata": {},
   "outputs": [],
   "source": [
    "import re\n",
    "import string\n",
    "import time\n",
    "pd.set_option('display.max_rows', 50)\n",
    "\n",
    "from nltk.corpus import stopwords\n",
    "stop = stopwords.words('english')\n",
    "\n",
    "from sklearn.preprocessing import LabelEncoder\n",
    "from sklearn.feature_extraction.text import CountVectorizer\n",
    "from sklearn.feature_extraction.text import TfidfVectorizer\n",
    "from sklearn.model_selection import cross_validate\n",
    "\n",
    "from sklearn.naive_bayes import MultinomialNB, GaussianNB\n",
    "from sklearn.tree import DecisionTreeClassifier\n",
    "from sklearn.svm import LinearSVC\n",
    "from sklearn.ensemble import AdaBoostClassifier\n",
    "from sklearn.neural_network import MLPClassifier"
   ]
  },
  {
   "cell_type": "code",
   "execution_count": 6,
   "metadata": {},
   "outputs": [],
   "source": [
    "# source: https://www.kaggle.com/wcukierski/enron-email-dataset\n",
    "email_df = pd.read_csv('D:\\\\marke\\\\data\\\\enron\\\\data\\\\emails.csv')"
   ]
  },
  {
   "cell_type": "code",
   "execution_count": 7,
   "metadata": {},
   "outputs": [
    {
     "data": {
      "text/html": [
       "<div>\n",
       "<style scoped>\n",
       "    .dataframe tbody tr th:only-of-type {\n",
       "        vertical-align: middle;\n",
       "    }\n",
       "\n",
       "    .dataframe tbody tr th {\n",
       "        vertical-align: top;\n",
       "    }\n",
       "\n",
       "    .dataframe thead th {\n",
       "        text-align: right;\n",
       "    }\n",
       "</style>\n",
       "<table border=\"1\" class=\"dataframe\">\n",
       "  <thead>\n",
       "    <tr style=\"text-align: right;\">\n",
       "      <th></th>\n",
       "      <th>file</th>\n",
       "      <th>message</th>\n",
       "    </tr>\n",
       "  </thead>\n",
       "  <tbody>\n",
       "    <tr>\n",
       "      <th>0</th>\n",
       "      <td>allen-p/_sent_mail/1.</td>\n",
       "      <td>Message-ID: &lt;18782981.1075855378110.JavaMail.e...</td>\n",
       "    </tr>\n",
       "    <tr>\n",
       "      <th>1</th>\n",
       "      <td>allen-p/_sent_mail/10.</td>\n",
       "      <td>Message-ID: &lt;15464986.1075855378456.JavaMail.e...</td>\n",
       "    </tr>\n",
       "    <tr>\n",
       "      <th>2</th>\n",
       "      <td>allen-p/_sent_mail/100.</td>\n",
       "      <td>Message-ID: &lt;24216240.1075855687451.JavaMail.e...</td>\n",
       "    </tr>\n",
       "    <tr>\n",
       "      <th>3</th>\n",
       "      <td>allen-p/_sent_mail/1000.</td>\n",
       "      <td>Message-ID: &lt;13505866.1075863688222.JavaMail.e...</td>\n",
       "    </tr>\n",
       "    <tr>\n",
       "      <th>4</th>\n",
       "      <td>allen-p/_sent_mail/1001.</td>\n",
       "      <td>Message-ID: &lt;30922949.1075863688243.JavaMail.e...</td>\n",
       "    </tr>\n",
       "  </tbody>\n",
       "</table>\n",
       "</div>"
      ],
      "text/plain": [
       "                       file                                            message\n",
       "0     allen-p/_sent_mail/1.  Message-ID: <18782981.1075855378110.JavaMail.e...\n",
       "1    allen-p/_sent_mail/10.  Message-ID: <15464986.1075855378456.JavaMail.e...\n",
       "2   allen-p/_sent_mail/100.  Message-ID: <24216240.1075855687451.JavaMail.e...\n",
       "3  allen-p/_sent_mail/1000.  Message-ID: <13505866.1075863688222.JavaMail.e...\n",
       "4  allen-p/_sent_mail/1001.  Message-ID: <30922949.1075863688243.JavaMail.e..."
      ]
     },
     "execution_count": 7,
     "metadata": {},
     "output_type": "execute_result"
    }
   ],
   "source": [
    "email_df.head()"
   ]
  },
  {
   "cell_type": "code",
   "execution_count": 8,
   "metadata": {},
   "outputs": [
    {
     "data": {
      "text/plain": [
       "(517401, 2)"
      ]
     },
     "execution_count": 8,
     "metadata": {},
     "output_type": "execute_result"
    }
   ],
   "source": [
    "email_df.shape"
   ]
  },
  {
   "cell_type": "code",
   "execution_count": 9,
   "metadata": {},
   "outputs": [
    {
     "name": "stdout",
     "output_type": "stream",
     "text": [
      "Message-ID: <15464986.1075855378456.JavaMail.evans@thyme>\n",
      "Date: Fri, 4 May 2001 13:51:00 -0700 (PDT)\n",
      "From: phillip.allen@enron.com\n",
      "To: john.lavorato@enron.com\n",
      "Subject: Re:\n",
      "Mime-Version: 1.0\n",
      "Content-Type: text/plain; charset=us-ascii\n",
      "Content-Transfer-Encoding: 7bit\n",
      "X-From: Phillip K Allen\n",
      "X-To: John J Lavorato <John J Lavorato/ENRON@enronXgate@ENRON>\n",
      "X-cc: \n",
      "X-bcc: \n",
      "X-Folder: \\Phillip_Allen_Jan2002_1\\Allen, Phillip K.\\'Sent Mail\n",
      "X-Origin: Allen-P\n",
      "X-FileName: pallen (Non-Privileged).pst\n",
      "\n",
      "Traveling to have a business meeting takes the fun out of the trip.  Especially if you have to prepare a presentation.  I would suggest holding the business plan meetings here then take a trip without any formal business meetings.  I would even try and get some honest opinions on whether a trip is even desired or necessary.\n",
      "\n",
      "As far as the business meetings, I think it would be more productive to try and stimulate discussions across the different groups about what is working and what is not.  Too often the presenter speaks and the others are quiet just waiting for their turn.   The meetings might be better if held in a round table discussion format.  \n",
      "\n",
      "My suggestion for where to go is Austin.  Play golf and rent a ski boat and jet ski's.  Flying somewhere takes too much time.\n",
      "\n"
     ]
    }
   ],
   "source": [
    "print(email_df.loc[1]['message'])"
   ]
  },
  {
   "cell_type": "code",
   "execution_count": 10,
   "metadata": {},
   "outputs": [
    {
     "data": {
      "text/plain": [
       "[('Message-ID', '<15464986.1075855378456.JavaMail.evans@thyme>'),\n",
       " ('Date', 'Fri, 4 May 2001 13:51:00 -0700 (PDT)'),\n",
       " ('From', 'phillip.allen@enron.com'),\n",
       " ('To', 'john.lavorato@enron.com'),\n",
       " ('Subject', 'Re:'),\n",
       " ('Mime-Version', '1.0'),\n",
       " ('Content-Type', 'text/plain; charset=us-ascii'),\n",
       " ('Content-Transfer-Encoding', '7bit'),\n",
       " ('X-From', 'Phillip K Allen'),\n",
       " ('X-To', 'John J Lavorato <John J Lavorato/ENRON@enronXgate@ENRON>'),\n",
       " ('X-cc', ''),\n",
       " ('X-bcc', ''),\n",
       " ('X-Folder', \"\\\\Phillip_Allen_Jan2002_1\\\\Allen, Phillip K.\\\\'Sent Mail\"),\n",
       " ('X-Origin', 'Allen-P'),\n",
       " ('X-FileName', 'pallen (Non-Privileged).pst')]"
      ]
     },
     "execution_count": 10,
     "metadata": {},
     "output_type": "execute_result"
    }
   ],
   "source": [
    "# transform the email into correct format\n",
    "message = email_df.loc[1]['message']\n",
    "e = email.message_from_string(message)\n",
    "\n",
    "e.items()"
   ]
  },
  {
   "cell_type": "code",
   "execution_count": 11,
   "metadata": {},
   "outputs": [
    {
     "data": {
      "text/plain": [
       "'Fri, 4 May 2001 13:51:00 -0700 (PDT)'"
      ]
     },
     "execution_count": 11,
     "metadata": {},
     "output_type": "execute_result"
    }
   ],
   "source": [
    "# get date\n",
    "e.get('Date')"
   ]
  },
  {
   "cell_type": "code",
   "execution_count": 12,
   "metadata": {},
   "outputs": [
    {
     "data": {
      "text/plain": [
       "\"Traveling to have a business meeting takes the fun out of the trip.  Especially if you have to prepare a presentation.  I would suggest holding the business plan meetings here then take a trip without any formal business meetings.  I would even try and get some honest opinions on whether a trip is even desired or necessary.\\n\\nAs far as the business meetings, I think it would be more productive to try and stimulate discussions across the different groups about what is working and what is not.  Too often the presenter speaks and the others are quiet just waiting for their turn.   The meetings might be better if held in a round table discussion format.  \\n\\nMy suggestion for where to go is Austin.  Play golf and rent a ski boat and jet ski's.  Flying somewhere takes too much time.\\n\""
      ]
     },
     "execution_count": 12,
     "metadata": {},
     "output_type": "execute_result"
    }
   ],
   "source": [
    "# show message body\n",
    "e.get_payload()"
   ]
  },
  {
   "cell_type": "code",
   "execution_count": 13,
   "metadata": {},
   "outputs": [],
   "source": [
    "# now we add those fields into our 'df' dataframe\n",
    "def get_field(field, messages):\n",
    "    column = []\n",
    "    for message in messages:\n",
    "        e = email.message_from_string(message)\n",
    "        column.append(e.get(field))\n",
    "    return column"
   ]
  },
  {
   "cell_type": "code",
   "execution_count": 14,
   "metadata": {},
   "outputs": [
    {
     "data": {
      "text/html": [
       "<div>\n",
       "<style scoped>\n",
       "    .dataframe tbody tr th:only-of-type {\n",
       "        vertical-align: middle;\n",
       "    }\n",
       "\n",
       "    .dataframe tbody tr th {\n",
       "        vertical-align: top;\n",
       "    }\n",
       "\n",
       "    .dataframe thead th {\n",
       "        text-align: right;\n",
       "    }\n",
       "</style>\n",
       "<table border=\"1\" class=\"dataframe\">\n",
       "  <thead>\n",
       "    <tr style=\"text-align: right;\">\n",
       "      <th></th>\n",
       "      <th>file</th>\n",
       "      <th>message</th>\n",
       "      <th>date</th>\n",
       "      <th>subject</th>\n",
       "      <th>X-Folder</th>\n",
       "      <th>X-From</th>\n",
       "      <th>X-To</th>\n",
       "    </tr>\n",
       "  </thead>\n",
       "  <tbody>\n",
       "    <tr>\n",
       "      <th>0</th>\n",
       "      <td>allen-p/_sent_mail/1.</td>\n",
       "      <td>Message-ID: &lt;18782981.1075855378110.JavaMail.e...</td>\n",
       "      <td>Mon, 14 May 2001 16:39:00 -0700 (PDT)</td>\n",
       "      <td></td>\n",
       "      <td>\\Phillip_Allen_Jan2002_1\\Allen, Phillip K.\\'Se...</td>\n",
       "      <td>Phillip K Allen</td>\n",
       "      <td>Tim Belden &lt;Tim Belden/Enron@EnronXGate&gt;</td>\n",
       "    </tr>\n",
       "    <tr>\n",
       "      <th>1</th>\n",
       "      <td>allen-p/_sent_mail/10.</td>\n",
       "      <td>Message-ID: &lt;15464986.1075855378456.JavaMail.e...</td>\n",
       "      <td>Fri, 4 May 2001 13:51:00 -0700 (PDT)</td>\n",
       "      <td>Re:</td>\n",
       "      <td>\\Phillip_Allen_Jan2002_1\\Allen, Phillip K.\\'Se...</td>\n",
       "      <td>Phillip K Allen</td>\n",
       "      <td>John J Lavorato &lt;John J Lavorato/ENRON@enronXg...</td>\n",
       "    </tr>\n",
       "    <tr>\n",
       "      <th>2</th>\n",
       "      <td>allen-p/_sent_mail/100.</td>\n",
       "      <td>Message-ID: &lt;24216240.1075855687451.JavaMail.e...</td>\n",
       "      <td>Wed, 18 Oct 2000 03:00:00 -0700 (PDT)</td>\n",
       "      <td>Re: test</td>\n",
       "      <td>\\Phillip_Allen_Dec2000\\Notes Folders\\'sent mail</td>\n",
       "      <td>Phillip K Allen</td>\n",
       "      <td>Leah Van Arsdall</td>\n",
       "    </tr>\n",
       "  </tbody>\n",
       "</table>\n",
       "</div>"
      ],
      "text/plain": [
       "                      file                                            message  \\\n",
       "0    allen-p/_sent_mail/1.  Message-ID: <18782981.1075855378110.JavaMail.e...   \n",
       "1   allen-p/_sent_mail/10.  Message-ID: <15464986.1075855378456.JavaMail.e...   \n",
       "2  allen-p/_sent_mail/100.  Message-ID: <24216240.1075855687451.JavaMail.e...   \n",
       "\n",
       "                                    date   subject  \\\n",
       "0  Mon, 14 May 2001 16:39:00 -0700 (PDT)             \n",
       "1   Fri, 4 May 2001 13:51:00 -0700 (PDT)       Re:   \n",
       "2  Wed, 18 Oct 2000 03:00:00 -0700 (PDT)  Re: test   \n",
       "\n",
       "                                            X-Folder           X-From  \\\n",
       "0  \\Phillip_Allen_Jan2002_1\\Allen, Phillip K.\\'Se...  Phillip K Allen   \n",
       "1  \\Phillip_Allen_Jan2002_1\\Allen, Phillip K.\\'Se...  Phillip K Allen   \n",
       "2    \\Phillip_Allen_Dec2000\\Notes Folders\\'sent mail  Phillip K Allen   \n",
       "\n",
       "                                                X-To  \n",
       "0           Tim Belden <Tim Belden/Enron@EnronXGate>  \n",
       "1  John J Lavorato <John J Lavorato/ENRON@enronXg...  \n",
       "2                                   Leah Van Arsdall  "
      ]
     },
     "execution_count": 14,
     "metadata": {},
     "output_type": "execute_result"
    }
   ],
   "source": [
    "email_df['date'] = get_field(\"Date\", email_df['message'])\n",
    "email_df['subject'] = get_field(\"Subject\", email_df['message'])\n",
    "email_df['X-Folder'] = get_field(\"X-Folder\", email_df['message'])\n",
    "email_df['X-From'] = get_field(\"X-From\", email_df['message'])\n",
    "email_df['X-To'] = get_field(\"X-To\", email_df['message'])\n",
    "email_df.head(3)"
   ]
  },
  {
   "cell_type": "code",
   "execution_count": 15,
   "metadata": {},
   "outputs": [
    {
     "data": {
      "text/html": [
       "<div>\n",
       "<style scoped>\n",
       "    .dataframe tbody tr th:only-of-type {\n",
       "        vertical-align: middle;\n",
       "    }\n",
       "\n",
       "    .dataframe tbody tr th {\n",
       "        vertical-align: top;\n",
       "    }\n",
       "\n",
       "    .dataframe thead th {\n",
       "        text-align: right;\n",
       "    }\n",
       "</style>\n",
       "<table border=\"1\" class=\"dataframe\">\n",
       "  <thead>\n",
       "    <tr style=\"text-align: right;\">\n",
       "      <th></th>\n",
       "      <th>file</th>\n",
       "      <th>message</th>\n",
       "      <th>date</th>\n",
       "      <th>subject</th>\n",
       "      <th>X-Folder</th>\n",
       "      <th>X-From</th>\n",
       "      <th>X-To</th>\n",
       "      <th>body</th>\n",
       "    </tr>\n",
       "  </thead>\n",
       "  <tbody>\n",
       "    <tr>\n",
       "      <th>0</th>\n",
       "      <td>allen-p/_sent_mail/1.</td>\n",
       "      <td>Message-ID: &lt;18782981.1075855378110.JavaMail.e...</td>\n",
       "      <td>Mon, 14 May 2001 16:39:00 -0700 (PDT)</td>\n",
       "      <td></td>\n",
       "      <td>\\Phillip_Allen_Jan2002_1\\Allen, Phillip K.\\'Se...</td>\n",
       "      <td>Phillip K Allen</td>\n",
       "      <td>Tim Belden &lt;Tim Belden/Enron@EnronXGate&gt;</td>\n",
       "      <td>Here is our forecast\\n\\n</td>\n",
       "    </tr>\n",
       "    <tr>\n",
       "      <th>1</th>\n",
       "      <td>allen-p/_sent_mail/10.</td>\n",
       "      <td>Message-ID: &lt;15464986.1075855378456.JavaMail.e...</td>\n",
       "      <td>Fri, 4 May 2001 13:51:00 -0700 (PDT)</td>\n",
       "      <td>Re:</td>\n",
       "      <td>\\Phillip_Allen_Jan2002_1\\Allen, Phillip K.\\'Se...</td>\n",
       "      <td>Phillip K Allen</td>\n",
       "      <td>John J Lavorato &lt;John J Lavorato/ENRON@enronXg...</td>\n",
       "      <td>Traveling to have a business meeting takes the...</td>\n",
       "    </tr>\n",
       "    <tr>\n",
       "      <th>2</th>\n",
       "      <td>allen-p/_sent_mail/100.</td>\n",
       "      <td>Message-ID: &lt;24216240.1075855687451.JavaMail.e...</td>\n",
       "      <td>Wed, 18 Oct 2000 03:00:00 -0700 (PDT)</td>\n",
       "      <td>Re: test</td>\n",
       "      <td>\\Phillip_Allen_Dec2000\\Notes Folders\\'sent mail</td>\n",
       "      <td>Phillip K Allen</td>\n",
       "      <td>Leah Van Arsdall</td>\n",
       "      <td>test successful.  way to go!!!</td>\n",
       "    </tr>\n",
       "  </tbody>\n",
       "</table>\n",
       "</div>"
      ],
      "text/plain": [
       "                      file                                            message  \\\n",
       "0    allen-p/_sent_mail/1.  Message-ID: <18782981.1075855378110.JavaMail.e...   \n",
       "1   allen-p/_sent_mail/10.  Message-ID: <15464986.1075855378456.JavaMail.e...   \n",
       "2  allen-p/_sent_mail/100.  Message-ID: <24216240.1075855687451.JavaMail.e...   \n",
       "\n",
       "                                    date   subject  \\\n",
       "0  Mon, 14 May 2001 16:39:00 -0700 (PDT)             \n",
       "1   Fri, 4 May 2001 13:51:00 -0700 (PDT)       Re:   \n",
       "2  Wed, 18 Oct 2000 03:00:00 -0700 (PDT)  Re: test   \n",
       "\n",
       "                                            X-Folder           X-From  \\\n",
       "0  \\Phillip_Allen_Jan2002_1\\Allen, Phillip K.\\'Se...  Phillip K Allen   \n",
       "1  \\Phillip_Allen_Jan2002_1\\Allen, Phillip K.\\'Se...  Phillip K Allen   \n",
       "2    \\Phillip_Allen_Dec2000\\Notes Folders\\'sent mail  Phillip K Allen   \n",
       "\n",
       "                                                X-To  \\\n",
       "0           Tim Belden <Tim Belden/Enron@EnronXGate>   \n",
       "1  John J Lavorato <John J Lavorato/ENRON@enronXg...   \n",
       "2                                   Leah Van Arsdall   \n",
       "\n",
       "                                                body  \n",
       "0                          Here is our forecast\\n\\n   \n",
       "1  Traveling to have a business meeting takes the...  \n",
       "2                     test successful.  way to go!!!  "
      ]
     },
     "execution_count": 15,
     "metadata": {},
     "output_type": "execute_result"
    }
   ],
   "source": [
    "def body(messages):\n",
    "    column = []\n",
    "    for message in messages:\n",
    "        e = email.message_from_string(message)\n",
    "        column.append(e.get_payload())\n",
    "    return column\n",
    "\n",
    "email_df['body'] = body(email_df['message'])\n",
    "email_df.head(3)"
   ]
  },
  {
   "cell_type": "code",
   "execution_count": 16,
   "metadata": {},
   "outputs": [
    {
     "data": {
      "text/html": [
       "<div>\n",
       "<style scoped>\n",
       "    .dataframe tbody tr th:only-of-type {\n",
       "        vertical-align: middle;\n",
       "    }\n",
       "\n",
       "    .dataframe tbody tr th {\n",
       "        vertical-align: top;\n",
       "    }\n",
       "\n",
       "    .dataframe thead th {\n",
       "        text-align: right;\n",
       "    }\n",
       "</style>\n",
       "<table border=\"1\" class=\"dataframe\">\n",
       "  <thead>\n",
       "    <tr style=\"text-align: right;\">\n",
       "      <th></th>\n",
       "      <th>file</th>\n",
       "      <th>message</th>\n",
       "      <th>date</th>\n",
       "      <th>subject</th>\n",
       "      <th>X-Folder</th>\n",
       "      <th>X-From</th>\n",
       "      <th>X-To</th>\n",
       "      <th>body</th>\n",
       "    </tr>\n",
       "  </thead>\n",
       "  <tbody>\n",
       "    <tr>\n",
       "      <th>0</th>\n",
       "      <td>allen-p/_sent_mail/1.</td>\n",
       "      <td>Message-ID: &lt;18782981.1075855378110.JavaMail.e...</td>\n",
       "      <td>Mon, 14 May 2001 16:39:00 -0700 (PDT)</td>\n",
       "      <td></td>\n",
       "      <td>'sent mail</td>\n",
       "      <td>Phillip K Allen</td>\n",
       "      <td>Tim Belden &lt;Tim Belden/Enron@EnronXGate&gt;</td>\n",
       "      <td>Here is our forecast\\n\\n</td>\n",
       "    </tr>\n",
       "    <tr>\n",
       "      <th>1</th>\n",
       "      <td>allen-p/_sent_mail/10.</td>\n",
       "      <td>Message-ID: &lt;15464986.1075855378456.JavaMail.e...</td>\n",
       "      <td>Fri, 4 May 2001 13:51:00 -0700 (PDT)</td>\n",
       "      <td>Re:</td>\n",
       "      <td>'sent mail</td>\n",
       "      <td>Phillip K Allen</td>\n",
       "      <td>John J Lavorato &lt;John J Lavorato/ENRON@enronXg...</td>\n",
       "      <td>Traveling to have a business meeting takes the...</td>\n",
       "    </tr>\n",
       "  </tbody>\n",
       "</table>\n",
       "</div>"
      ],
      "text/plain": [
       "                     file                                            message  \\\n",
       "0   allen-p/_sent_mail/1.  Message-ID: <18782981.1075855378110.JavaMail.e...   \n",
       "1  allen-p/_sent_mail/10.  Message-ID: <15464986.1075855378456.JavaMail.e...   \n",
       "\n",
       "                                    date subject    X-Folder           X-From  \\\n",
       "0  Mon, 14 May 2001 16:39:00 -0700 (PDT)          'sent mail  Phillip K Allen   \n",
       "1   Fri, 4 May 2001 13:51:00 -0700 (PDT)     Re:  'sent mail  Phillip K Allen   \n",
       "\n",
       "                                                X-To  \\\n",
       "0           Tim Belden <Tim Belden/Enron@EnronXGate>   \n",
       "1  John J Lavorato <John J Lavorato/ENRON@enronXg...   \n",
       "\n",
       "                                                body  \n",
       "0                          Here is our forecast\\n\\n   \n",
       "1  Traveling to have a business meeting takes the...  "
      ]
     },
     "execution_count": 16,
     "metadata": {},
     "output_type": "execute_result"
    }
   ],
   "source": [
    "def preprocess_folder(folders):\n",
    "    column = []\n",
    "    for folder in folders:\n",
    "        if (folder is None or folder == \"\"):\n",
    "            column.append(np.nan)\n",
    "        else:\n",
    "            column.append(folder.split(\"\\\\\")[-1].lower())\n",
    "    return column\n",
    "\n",
    "email_df['X-Folder'] = preprocess_folder(email_df['X-Folder'])\n",
    "email_df.head(2)"
   ]
  },
  {
   "cell_type": "code",
   "execution_count": 17,
   "metadata": {},
   "outputs": [
    {
     "name": "stdout",
     "output_type": "stream",
     "text": [
      "Unique Folders:  1782\n"
     ]
    }
   ],
   "source": [
    "# count unique folders\n",
    "print(\"Unique Folders: \", len(email_df['X-Folder'].unique()))"
   ]
  },
  {
   "cell_type": "code",
   "execution_count": 18,
   "metadata": {},
   "outputs": [],
   "source": [
    "def replace_empty_with_nan(subject):\n",
    "    column = []\n",
    "    for val in subject:\n",
    "        if (val == \"\"):\n",
    "            column.append(np.nan) \n",
    "        else:\n",
    "            column.append(val)\n",
    "    return column"
   ]
  },
  {
   "cell_type": "code",
   "execution_count": 19,
   "metadata": {},
   "outputs": [],
   "source": [
    "email_df['subject'] = replace_empty_with_nan(email_df['subject'])\n",
    "email_df['X-To'] = replace_empty_with_nan(email_df['X-To'])"
   ]
  },
  {
   "cell_type": "code",
   "execution_count": 20,
   "metadata": {},
   "outputs": [
    {
     "data": {
      "text/plain": [
       "file            0\n",
       "message         0\n",
       "date            0\n",
       "subject     19187\n",
       "X-Folder       29\n",
       "X-From         29\n",
       "X-To         9153\n",
       "body            0\n",
       "dtype: int64"
      ]
     },
     "execution_count": 20,
     "metadata": {},
     "output_type": "execute_result"
    }
   ],
   "source": [
    "email_df.isnull().sum()"
   ]
  },
  {
   "cell_type": "code",
   "execution_count": 21,
   "metadata": {},
   "outputs": [],
   "source": [
    "# drop missing value rows\n",
    "email_df.dropna(axis=0, inplace=True)"
   ]
  },
  {
   "cell_type": "code",
   "execution_count": 22,
   "metadata": {},
   "outputs": [
    {
     "data": {
      "text/html": [
       "<div>\n",
       "<style scoped>\n",
       "    .dataframe tbody tr th:only-of-type {\n",
       "        vertical-align: middle;\n",
       "    }\n",
       "\n",
       "    .dataframe tbody tr th {\n",
       "        vertical-align: top;\n",
       "    }\n",
       "\n",
       "    .dataframe thead th {\n",
       "        text-align: right;\n",
       "    }\n",
       "</style>\n",
       "<table border=\"1\" class=\"dataframe\">\n",
       "  <thead>\n",
       "    <tr style=\"text-align: right;\">\n",
       "      <th></th>\n",
       "      <th>file</th>\n",
       "      <th>message</th>\n",
       "      <th>date</th>\n",
       "      <th>subject</th>\n",
       "      <th>X-Folder</th>\n",
       "      <th>X-From</th>\n",
       "      <th>X-To</th>\n",
       "      <th>body</th>\n",
       "    </tr>\n",
       "  </thead>\n",
       "  <tbody>\n",
       "    <tr>\n",
       "      <th>1</th>\n",
       "      <td>allen-p/_sent_mail/10.</td>\n",
       "      <td>Message-ID: &lt;15464986.1075855378456.JavaMail.e...</td>\n",
       "      <td>Fri, 4 May 2001 13:51:00 -0700 (PDT)</td>\n",
       "      <td>Re:</td>\n",
       "      <td>'sent mail</td>\n",
       "      <td>Phillip K Allen</td>\n",
       "      <td>John J Lavorato &lt;John J Lavorato/ENRON@enronXg...</td>\n",
       "      <td>Traveling to have a business meeting takes the...</td>\n",
       "    </tr>\n",
       "    <tr>\n",
       "      <th>2</th>\n",
       "      <td>allen-p/_sent_mail/100.</td>\n",
       "      <td>Message-ID: &lt;24216240.1075855687451.JavaMail.e...</td>\n",
       "      <td>Wed, 18 Oct 2000 03:00:00 -0700 (PDT)</td>\n",
       "      <td>Re: test</td>\n",
       "      <td>'sent mail</td>\n",
       "      <td>Phillip K Allen</td>\n",
       "      <td>Leah Van Arsdall</td>\n",
       "      <td>test successful.  way to go!!!</td>\n",
       "    </tr>\n",
       "    <tr>\n",
       "      <th>4</th>\n",
       "      <td>allen-p/_sent_mail/1001.</td>\n",
       "      <td>Message-ID: &lt;30922949.1075863688243.JavaMail.e...</td>\n",
       "      <td>Thu, 31 Aug 2000 05:07:00 -0700 (PDT)</td>\n",
       "      <td>Re: Hello</td>\n",
       "      <td>'sent mail</td>\n",
       "      <td>Phillip K Allen</td>\n",
       "      <td>Greg Piper</td>\n",
       "      <td>Let's shoot for Tuesday at 11:45.</td>\n",
       "    </tr>\n",
       "  </tbody>\n",
       "</table>\n",
       "</div>"
      ],
      "text/plain": [
       "                       file  \\\n",
       "1    allen-p/_sent_mail/10.   \n",
       "2   allen-p/_sent_mail/100.   \n",
       "4  allen-p/_sent_mail/1001.   \n",
       "\n",
       "                                             message  \\\n",
       "1  Message-ID: <15464986.1075855378456.JavaMail.e...   \n",
       "2  Message-ID: <24216240.1075855687451.JavaMail.e...   \n",
       "4  Message-ID: <30922949.1075863688243.JavaMail.e...   \n",
       "\n",
       "                                    date    subject    X-Folder  \\\n",
       "1   Fri, 4 May 2001 13:51:00 -0700 (PDT)        Re:  'sent mail   \n",
       "2  Wed, 18 Oct 2000 03:00:00 -0700 (PDT)   Re: test  'sent mail   \n",
       "4  Thu, 31 Aug 2000 05:07:00 -0700 (PDT)  Re: Hello  'sent mail   \n",
       "\n",
       "            X-From                                               X-To  \\\n",
       "1  Phillip K Allen  John J Lavorato <John J Lavorato/ENRON@enronXg...   \n",
       "2  Phillip K Allen                                   Leah Van Arsdall   \n",
       "4  Phillip K Allen                                         Greg Piper   \n",
       "\n",
       "                                                body  \n",
       "1  Traveling to have a business meeting takes the...  \n",
       "2                     test successful.  way to go!!!  \n",
       "4                Let's shoot for Tuesday at 11:45.    "
      ]
     },
     "execution_count": 22,
     "metadata": {},
     "output_type": "execute_result"
    }
   ],
   "source": [
    "def body(messages):\n",
    "    column = []\n",
    "    for message in messages:\n",
    "        e = email.message_from_string(message)\n",
    "        column.append(e.get_payload())\n",
    "    return column\n",
    "\n",
    "email_df['body'] = body(email_df['message'])\n",
    "email_df.head(3)"
   ]
  },
  {
   "cell_type": "code",
   "execution_count": 23,
   "metadata": {},
   "outputs": [],
   "source": [
    "df = email_df[['subject','X-Folder','body']]"
   ]
  },
  {
   "cell_type": "code",
   "execution_count": 24,
   "metadata": {},
   "outputs": [],
   "source": [
    "# save the data\n",
    "df.to_csv(\"D:\\\\marke\\\\data\\\\enron\\\\data\\\\cleaned_data.csv\", index=False)"
   ]
  },
  {
   "cell_type": "code",
   "execution_count": 25,
   "metadata": {},
   "outputs": [],
   "source": [
    "# Now process as per second kaggle script"
   ]
  },
  {
   "cell_type": "code",
   "execution_count": 26,
   "metadata": {},
   "outputs": [],
   "source": [
    "# Remove folders with not enough emails\n",
    "def remove_folders(emails, n):\n",
    "    # returns the number of folders containing more than 'n' number of emails\n",
    "    email_count = dict(df['X-Folder'].value_counts())\n",
    "    small_folders = [key for key, val in email_count.items() if val<=n]\n",
    "    emails = df.loc[~df['X-Folder'].isin(small_folders)]\n",
    "    return emails"
   ]
  },
  {
   "cell_type": "code",
   "execution_count": 27,
   "metadata": {},
   "outputs": [],
   "source": [
    "n = 150\n",
    "df = remove_folders(df, n)"
   ]
  },
  {
   "cell_type": "code",
   "execution_count": 28,
   "metadata": {},
   "outputs": [
    {
     "name": "stdout",
     "output_type": "stream",
     "text": [
      "Total folders:  82\n",
      "df.shape:  (460141, 3)\n"
     ]
    }
   ],
   "source": [
    "print(\"Total folders: \", len(df['X-Folder'].unique()))\n",
    "print(\"df.shape: \", df.shape)"
   ]
  },
  {
   "cell_type": "code",
   "execution_count": 29,
   "metadata": {},
   "outputs": [],
   "source": [
    "# Combine subject and body\n",
    "df['text'] = df['subject'] + \" \" + df['body']\n",
    "# drop the columns 'subject' and 'body'\n",
    "df.drop(['subject','body'], axis=1, inplace=True)"
   ]
  },
  {
   "cell_type": "code",
   "execution_count": 30,
   "metadata": {},
   "outputs": [
    {
     "data": {
      "text/plain": [
       "1         Re: Traveling to have a business meeting takes...\n",
       "2                   Re: test test successful.  way to go!!!\n",
       "4             Re: Hello Let's shoot for Tuesday at 11:45.  \n",
       "5         Re: Hello Greg,\\n\\n How about either next Tues...\n",
       "7         Re: PRC review - phone calls any morning betwe...\n",
       "                                ...                        \n",
       "517396    Trade with John Lavorato This is a trade with ...\n",
       "517397    Gas Hedges Some of my position is with the Alb...\n",
       "517398    RE: CONFIDENTIAL 2\\n\\n -----Original Message--...\n",
       "517399    Calgary Analyst/Associate Analyst\\t\\t\\t\\t\\tRan...\n",
       "517400    RE: ali's essays i think the YMCA has a class ...\n",
       "Name: text, Length: 460141, dtype: object"
      ]
     },
     "execution_count": 30,
     "metadata": {},
     "output_type": "execute_result"
    }
   ],
   "source": [
    "df['text']"
   ]
  },
  {
   "cell_type": "code",
   "execution_count": 31,
   "metadata": {},
   "outputs": [],
   "source": [
    "no_words_arr = []\n",
    "for text in df['text']:\n",
    "    no_words = len(text.split())\n",
    "    no_words_arr.append(no_words)\n",
    "    \n",
    "df['no_words'] = no_words_arr"
   ]
  },
  {
   "cell_type": "code",
   "execution_count": 32,
   "metadata": {},
   "outputs": [
    {
     "data": {
      "text/plain": [
       "198523"
      ]
     },
     "execution_count": 32,
     "metadata": {},
     "output_type": "execute_result"
    }
   ],
   "source": [
    "df[df['no_words'] < 100].shape[0]"
   ]
  },
  {
   "cell_type": "code",
   "execution_count": 33,
   "metadata": {},
   "outputs": [
    {
     "data": {
      "text/plain": [
       "(460141, 3)"
      ]
     },
     "execution_count": 33,
     "metadata": {},
     "output_type": "execute_result"
    }
   ],
   "source": [
    "# shape of the data\n",
    "df.shape"
   ]
  },
  {
   "cell_type": "code",
   "execution_count": 34,
   "metadata": {},
   "outputs": [
    {
     "data": {
      "text/plain": [
       "sun devil                151\n",
       "5_00                     153\n",
       "eol & tagg               157\n",
       "old messages             158\n",
       "pan energy swap          162\n",
       "                       ...  \n",
       "inbox                  40203\n",
       "deleted items          49124\n",
       "discussion threads     54353\n",
       "sent                   54848\n",
       "all documents         121985\n",
       "Name: X-Folder, Length: 82, dtype: int64"
      ]
     },
     "execution_count": 34,
     "metadata": {},
     "output_type": "execute_result"
    }
   ],
   "source": [
    "df['X-Folder'].value_counts().sort_values()"
   ]
  },
  {
   "cell_type": "code",
   "execution_count": 35,
   "metadata": {},
   "outputs": [],
   "source": [
    "# save the data\n",
    "df.to_csv(\"D:\\\\marke\\\\data\\\\enron\\\\data\\\\cleaned_data.csv\", index=False)"
   ]
  },
  {
   "cell_type": "code",
   "execution_count": 36,
   "metadata": {},
   "outputs": [],
   "source": [
    "# Preprocess text: lowercasing all words, \n",
    "# Remove extra new lines, \n",
    "# Remove extra tabs, punctuations, commas\n",
    "# Remove extra white spaces\n",
    "# Remove stopwords\n",
    "\n",
    "def preprocess(x):\n",
    "    # lowercasing all the words\n",
    "    x = x.lower()\n",
    "    \n",
    "    # remove extra new lines\n",
    "    x = re.sub(r'\\n+', ' ', x)\n",
    "    \n",
    "    # removing (replacing with empty spaces actually) all the punctuations\n",
    "    x = re.sub(\"[\"+string.punctuation+\"]\", \" \", x)\n",
    "    \n",
    "    # remove extra white spaces\n",
    "    x = re.sub(r'\\s+', ' ', x)\n",
    "    \n",
    "    return x"
   ]
  },
  {
   "cell_type": "code",
   "execution_count": 37,
   "metadata": {},
   "outputs": [
    {
     "name": "stdout",
     "output_type": "stream",
     "text": [
      "Execution time (sec):  668.9623289108276\n"
     ]
    }
   ],
   "source": [
    "start = time.time()\n",
    "df.loc[:,'text'] = df.loc[:, 'text'].map(preprocess)\n",
    "\n",
    "# remove stopwords\n",
    "df.loc[:, 'text'] = df.loc[:, 'text'].apply(lambda x: ' '.join([word for word in x.split() if word not in stop]))\n",
    "end = time.time()\n",
    "print(\"Execution time (sec): \",(end - start))"
   ]
  },
  {
   "cell_type": "code",
   "execution_count": 38,
   "metadata": {},
   "outputs": [
    {
     "name": "stdout",
     "output_type": "stream",
     "text": [
      "Execution time (sec):  0.08612322807312012\n"
     ]
    }
   ],
   "source": [
    "# Randomly select 20 folders\n",
    "start = time.time()\n",
    "folders_dict = dict(df['X-Folder'].value_counts().sort_values()[50:70])\n",
    "data = df[df['X-Folder'].isin(folders_dict.keys())]\n",
    "end = time.time()\n",
    "print(\"Execution time (sec): \",(end - start))"
   ]
  },
  {
   "cell_type": "code",
   "execution_count": 39,
   "metadata": {},
   "outputs": [
    {
     "name": "stdout",
     "output_type": "stream",
     "text": [
      "Number of instances:  13586\n"
     ]
    }
   ],
   "source": [
    "# check number of rows in the 'data' dataframe\n",
    "print(\"Number of instances: \", data.shape[0])\n",
    "data.to_csv('D:\\\\marke\\\\data\\\\enron\\\\data\\\\preprocessed.csv', index=False)"
   ]
  },
  {
   "cell_type": "code",
   "execution_count": 40,
   "metadata": {},
   "outputs": [],
   "source": [
    "data = pd.read_csv(\"D:\\\\marke\\\\data\\\\enron\\\\data\\\\preprocessed.csv\")"
   ]
  },
  {
   "cell_type": "code",
   "execution_count": 41,
   "metadata": {},
   "outputs": [
    {
     "data": {
      "text/plain": [
       "logistics              1170\n",
       "tw-commercial group    1150\n",
       "california             1014\n",
       "bill williams iii      1004\n",
       "deal discrepancies      878\n",
       "management              799\n",
       "calendar                700\n",
       "esvl                    663\n",
       "tufco                   604\n",
       "resumes                 599\n",
       "e-mail bin              592\n",
       "ces                     572\n",
       "online trading          567\n",
       "junk                    544\n",
       "junk file               494\n",
       "ooc                     473\n",
       "genco-jv_ipo            465\n",
       "projects                459\n",
       "corporate               420\n",
       "archives                419\n",
       "Name: X-Folder, dtype: int64"
      ]
     },
     "execution_count": 41,
     "metadata": {},
     "output_type": "execute_result"
    }
   ],
   "source": [
    "data['X-Folder'].value_counts()"
   ]
  },
  {
   "cell_type": "code",
   "execution_count": 42,
   "metadata": {},
   "outputs": [],
   "source": [
    "def label_encoder(data):\n",
    "    class_le = LabelEncoder()\n",
    "    # apply label encoder on the 'X-Folder' column\n",
    "    y = class_le.fit_transform(data['X-Folder'])\n",
    "    return y"
   ]
  },
  {
   "cell_type": "code",
   "execution_count": 43,
   "metadata": {},
   "outputs": [],
   "source": [
    "y = label_encoder(data)\n",
    "input_data = data['text']"
   ]
  },
  {
   "cell_type": "code",
   "execution_count": 44,
   "metadata": {
    "scrolled": true
   },
   "outputs": [
    {
     "name": "stdout",
     "output_type": "stream",
     "text": [
      "X.shape:  (13586, 5000)\n",
      "Execution time (sec):  3.092029571533203\n"
     ]
    }
   ],
   "source": [
    "start = time.time()\n",
    "vectorizer = TfidfVectorizer(min_df=5, max_features=5000)\n",
    "X = vectorizer.fit_transform(input_data)\n",
    "\n",
    "X = X.toarray()\n",
    "print(\"X.shape: \",X.shape)\n",
    "\n",
    "end = time.time()\n",
    "print(\"Execution time (sec): \",(end - start))"
   ]
  },
  {
   "cell_type": "code",
   "execution_count": 45,
   "metadata": {},
   "outputs": [
    {
     "name": "stdout",
     "output_type": "stream",
     "text": [
      "Multinomial NB\n",
      "accuracy:  0.7368567808999297\n",
      "f1_score:  0.6967070564788325\n",
      "Jaccard_index:  0.5701299709091912\n",
      "time (sec):  14.210755586624146\n",
      "\n",
      "\n",
      "SVM\n",
      "accuracy:  0.7947884663526091\n",
      "f1_score:  0.7771822256420796\n",
      "Jaccard_index:  0.6613918628186176\n",
      "time (sec):  13.276092529296875\n",
      "\n",
      "\n"
     ]
    }
   ],
   "source": [
    "models = [MultinomialNB(), LinearSVC()] #, \n",
    "#          GaussianNB(),DecisionTreeClassifier(),AdaBoostClassifier(base_estimator=DecisionTreeClassifier(), n_estimators=5),\n",
    "#         MLPClassifier(hidden_layer_sizes=(10,))]\n",
    "\n",
    "names = [\"Multinomial NB\", \"SVM\"] #,\"Gaussian NB\", \"Decision Tree\", \"AdaBoost\", \"ANN\"]\n",
    "\n",
    "jacc_scores = []\n",
    "acc_scores = []\n",
    "f1_scores = []\n",
    "exec_times = []\n",
    "\n",
    "for model, name in zip(models, names):\n",
    "    print(name)\n",
    "    start = time.time()\n",
    "    scoring = {\n",
    "        'acc': 'accuracy',\n",
    "        'f1_mac': 'f1_macro',\n",
    "        'jacc_mac': 'jaccard_macro'\n",
    "    }\n",
    "    scores = cross_validate(model, X, y, cv=10, n_jobs=4, scoring=scoring)\n",
    "    training_time = (time.time() - start)\n",
    "    print(\"accuracy: \", scores['test_acc'].mean())\n",
    "    print(\"f1_score: \", scores['test_f1_mac'].mean())\n",
    "    print(\"Jaccard_index: \", scores['test_jacc_mac'].mean())\n",
    "    print(\"time (sec): \", training_time)\n",
    "    print(\"\\n\")\n",
    "    \n",
    "    jacc_scores.append(scores['test_jacc_mac'].mean())\n",
    "    acc_scores.append(scores['test_acc'].mean())\n",
    "    f1_scores.append(scores['test_f1_mac'].mean())\n",
    "    exec_times.append(training_time)\n"
   ]
  },
  {
   "cell_type": "markdown",
   "metadata": {},
   "source": [
    "# Build a Neural Network"
   ]
  },
  {
   "cell_type": "code",
   "execution_count": 46,
   "metadata": {},
   "outputs": [],
   "source": [
    "# https://www.kaggle.com/ankur561999/enron-email-classification-using-word-embeddings\n",
    "df = pd.read_csv(\"D:\\\\marke\\\\data\\\\enron\\\\data\\\\cleaned_data.csv\")"
   ]
  },
  {
   "cell_type": "code",
   "execution_count": 47,
   "metadata": {},
   "outputs": [
    {
     "data": {
      "text/html": [
       "<div>\n",
       "<style scoped>\n",
       "    .dataframe tbody tr th:only-of-type {\n",
       "        vertical-align: middle;\n",
       "    }\n",
       "\n",
       "    .dataframe tbody tr th {\n",
       "        vertical-align: top;\n",
       "    }\n",
       "\n",
       "    .dataframe thead th {\n",
       "        text-align: right;\n",
       "    }\n",
       "</style>\n",
       "<table border=\"1\" class=\"dataframe\">\n",
       "  <thead>\n",
       "    <tr style=\"text-align: right;\">\n",
       "      <th></th>\n",
       "      <th>X-Folder</th>\n",
       "      <th>text</th>\n",
       "      <th>no_words</th>\n",
       "    </tr>\n",
       "  </thead>\n",
       "  <tbody>\n",
       "    <tr>\n",
       "      <th>0</th>\n",
       "      <td>'sent mail</td>\n",
       "      <td>Re: Traveling to have a business meeting takes...</td>\n",
       "      <td>140</td>\n",
       "    </tr>\n",
       "    <tr>\n",
       "      <th>1</th>\n",
       "      <td>'sent mail</td>\n",
       "      <td>Re: test test successful.  way to go!!!</td>\n",
       "      <td>7</td>\n",
       "    </tr>\n",
       "    <tr>\n",
       "      <th>2</th>\n",
       "      <td>'sent mail</td>\n",
       "      <td>Re: Hello Let's shoot for Tuesday at 11:45.</td>\n",
       "      <td>8</td>\n",
       "    </tr>\n",
       "    <tr>\n",
       "      <th>3</th>\n",
       "      <td>'sent mail</td>\n",
       "      <td>Re: Hello Greg,\\n\\n How about either next Tues...</td>\n",
       "      <td>11</td>\n",
       "    </tr>\n",
       "    <tr>\n",
       "      <th>4</th>\n",
       "      <td>'sent mail</td>\n",
       "      <td>Re: PRC review - phone calls any morning betwe...</td>\n",
       "      <td>12</td>\n",
       "    </tr>\n",
       "  </tbody>\n",
       "</table>\n",
       "</div>"
      ],
      "text/plain": [
       "     X-Folder                                               text  no_words\n",
       "0  'sent mail  Re: Traveling to have a business meeting takes...       140\n",
       "1  'sent mail            Re: test test successful.  way to go!!!         7\n",
       "2  'sent mail      Re: Hello Let's shoot for Tuesday at 11:45.           8\n",
       "3  'sent mail  Re: Hello Greg,\\n\\n How about either next Tues...        11\n",
       "4  'sent mail  Re: PRC review - phone calls any morning betwe...        12"
      ]
     },
     "execution_count": 47,
     "metadata": {},
     "output_type": "execute_result"
    }
   ],
   "source": [
    "df.head()"
   ]
  },
  {
   "cell_type": "code",
   "execution_count": 48,
   "metadata": {},
   "outputs": [
    {
     "name": "stdout",
     "output_type": "stream",
     "text": [
      "Execution time (sec):  0.07199501991271973\n"
     ]
    }
   ],
   "source": [
    "# Randomly select 20 folders\n",
    "start = time.time()\n",
    "folders_dict = dict(df['X-Folder'].value_counts().sort_values()[50:70])\n",
    "df1 = df[df['X-Folder'].isin(folders_dict.keys())]\n",
    "end = time.time()\n",
    "print(\"Execution time (sec): \",(end - start))"
   ]
  },
  {
   "cell_type": "code",
   "execution_count": 49,
   "metadata": {},
   "outputs": [],
   "source": [
    "y = label_encoder(df1)\n",
    "corpus = df1['text']"
   ]
  },
  {
   "cell_type": "code",
   "execution_count": 50,
   "metadata": {},
   "outputs": [
    {
     "data": {
      "text/plain": [
       "19"
      ]
     },
     "execution_count": 50,
     "metadata": {},
     "output_type": "execute_result"
    }
   ],
   "source": [
    "y.max()"
   ]
  },
  {
   "cell_type": "code",
   "execution_count": 51,
   "metadata": {},
   "outputs": [],
   "source": [
    "# split the data into training and test set\n",
    "X_train, X_test, y_train, y_test = train_test_split(corpus, y, test_size=0.1, random_state=0)"
   ]
  },
  {
   "cell_type": "code",
   "execution_count": 52,
   "metadata": {},
   "outputs": [],
   "source": [
    "# Find all words in corpus\n",
    "all_words = []\n",
    "\n",
    "for sent in corpus:\n",
    "    tokenize_word = word_tokenize(sent)\n",
    "    for word in tokenize_word:\n",
    "        all_words.append(word)"
   ]
  },
  {
   "cell_type": "code",
   "execution_count": 53,
   "metadata": {},
   "outputs": [
    {
     "name": "stdout",
     "output_type": "stream",
     "text": [
      "Unique words:  111699\n"
     ]
    }
   ],
   "source": [
    "# retrieve all unique words from all_words\n",
    "unique_words = set(all_words)\n",
    "print(\"Unique words: \",len(unique_words))"
   ]
  },
  {
   "cell_type": "code",
   "execution_count": 54,
   "metadata": {},
   "outputs": [],
   "source": [
    "# prepare tokenizer\n",
    "t = Tokenizer()\n",
    "\n",
    "# fit the tokenizer on the docs\n",
    "t.fit_on_texts(corpus)\n",
    "\n",
    "# integer encode the documents\n",
    "train_encoded_docs = t.texts_to_sequences(X_train)\n",
    "test_encoded_docs = t.texts_to_sequences(X_test)"
   ]
  },
  {
   "cell_type": "code",
   "execution_count": 55,
   "metadata": {},
   "outputs": [],
   "source": [
    "# find the largest doc to make all the docs of uniform size i.e size of largest doc\n",
    "word_count = lambda doc: len(word_tokenize(doc))\n",
    "longest_doc = max(corpus, key=word_count)\n",
    "length_longest_doc = len(word_tokenize(longest_doc))\n",
    "length_longest_doc = 100"
   ]
  },
  {
   "cell_type": "code",
   "execution_count": 56,
   "metadata": {},
   "outputs": [],
   "source": [
    "# to make all the docs of equal size, we will add zeros to empty indexes\n",
    "train_padded_docs = pad_sequences(train_encoded_docs, length_longest_doc, padding='post')\n",
    "test_padded_docs = pad_sequences(test_encoded_docs, length_longest_doc, padding='post')"
   ]
  },
  {
   "cell_type": "code",
   "execution_count": 57,
   "metadata": {},
   "outputs": [
    {
     "data": {
      "text/plain": [
       "19"
      ]
     },
     "execution_count": 57,
     "metadata": {},
     "output_type": "execute_result"
    }
   ],
   "source": [
    "y_train.max()"
   ]
  },
  {
   "cell_type": "code",
   "execution_count": 58,
   "metadata": {},
   "outputs": [],
   "source": [
    "# one-hot encode the output labels\n",
    "Y_train = to_categorical(y_train, 20)\n",
    "Y_test = to_categorical(y_test, 20)"
   ]
  },
  {
   "cell_type": "markdown",
   "metadata": {},
   "source": [
    "# Learn own word embeddings"
   ]
  },
  {
   "cell_type": "code",
   "execution_count": 59,
   "metadata": {},
   "outputs": [],
   "source": [
    "docs = []\n",
    "\n",
    "for doc in corpus:\n",
    "    li = list(doc.split())\n",
    "    docs.append(li)"
   ]
  },
  {
   "cell_type": "code",
   "execution_count": 60,
   "metadata": {},
   "outputs": [
    {
     "name": "stdout",
     "output_type": "stream",
     "text": [
      "Word2Vec(vocab=174998, size=300, alpha=0.025)\n",
      "Training time (seconds):  108.7653796672821\n"
     ]
    }
   ],
   "source": [
    "start = time.time()\n",
    "# train the model\n",
    "model = Word2Vec(docs, size=300, window=5, min_count=1, workers=4, sg=0)\n",
    "# summarize the loaded model\n",
    "print(model)\n",
    "# save the model\n",
    "model.save(\"email_embeddings.bin\")\n",
    "\n",
    "print(\"Training time (seconds): \", (time.time() - start))"
   ]
  },
  {
   "cell_type": "code",
   "execution_count": 61,
   "metadata": {},
   "outputs": [
    {
     "name": "stdout",
     "output_type": "stream",
     "text": [
      "Load time (seconds):  1.5676498413085938\n"
     ]
    }
   ],
   "source": [
    "# load own word embeddings\n",
    "start = time.time()\n",
    "\n",
    "filename = \"email_embeddings.bin\"\n",
    "\n",
    "email_embeddings = Word2Vec.load(filename)\n",
    "\n",
    "print(\"Load time (seconds): \", (time.time() - start))"
   ]
  },
  {
   "cell_type": "code",
   "execution_count": 62,
   "metadata": {},
   "outputs": [],
   "source": [
    "vocab_size = len(email_embeddings.wv.vocab)"
   ]
  },
  {
   "cell_type": "markdown",
   "metadata": {},
   "source": [
    "# Email classification using 'own' word embeddings"
   ]
  },
  {
   "cell_type": "code",
   "execution_count": 63,
   "metadata": {},
   "outputs": [],
   "source": [
    "# create a weight matrix for words in training docs\n",
    "embedding_matrix = np.zeros((vocab_size, 300))\n",
    "count = 0\n",
    "\n",
    "for word, i in t.word_index.items():\n",
    "    if word in email_embeddings.wv.vocab.keys():\n",
    "        embedding_vector = email_embeddings[word]\n",
    "    \n",
    "        if embedding_vector is not None:\n",
    "            embedding_matrix[i] = embedding_vector\n",
    "    else:\n",
    "        count += 1"
   ]
  },
  {
   "cell_type": "code",
   "execution_count": 64,
   "metadata": {},
   "outputs": [
    {
     "data": {
      "text/plain": [
       "(174998, 300)"
      ]
     },
     "execution_count": 64,
     "metadata": {},
     "output_type": "execute_result"
    }
   ],
   "source": [
    "embedding_matrix.shape"
   ]
  },
  {
   "cell_type": "code",
   "execution_count": 65,
   "metadata": {},
   "outputs": [
    {
     "name": "stdout",
     "output_type": "stream",
     "text": [
      "Number of words not present in email_embeddings:  35805\n"
     ]
    }
   ],
   "source": [
    "print(\"Number of words not present in email_embeddings: \", count)"
   ]
  },
  {
   "cell_type": "code",
   "execution_count": 66,
   "metadata": {},
   "outputs": [
    {
     "name": "stdout",
     "output_type": "stream",
     "text": [
      "Model: \"sequential\"\n",
      "_________________________________________________________________\n",
      "Layer (type)                 Output Shape              Param #   \n",
      "=================================================================\n",
      "embedding (Embedding)        (None, 100, 300)          52499400  \n",
      "_________________________________________________________________\n",
      "lstm (LSTM)                  (None, 100)               160400    \n",
      "_________________________________________________________________\n",
      "flatten (Flatten)            (None, 100)               0         \n",
      "_________________________________________________________________\n",
      "dense (Dense)                (None, 20)                2020      \n",
      "=================================================================\n",
      "Total params: 52,661,820\n",
      "Trainable params: 162,420\n",
      "Non-trainable params: 52,499,400\n",
      "_________________________________________________________________\n"
     ]
    }
   ],
   "source": [
    "# define the model\n",
    "email_model = Sequential()\n",
    "e = Embedding(vocab_size, 300, weights=[embedding_matrix], input_length=length_longest_doc, trainable=False)\n",
    "email_model.add(e)\n",
    "email_model.add(LSTM(100, dropout=0.4))\n",
    "email_model.add(Flatten())\n",
    "email_model.add(Dense(20, activation='softmax'))\n",
    "\n",
    "\n",
    "# compile the model - optimizer was 'adam'\n",
    "email_model.compile(optimizer='rmsprop', loss='categorical_crossentropy', metrics=['accuracy'])\n",
    "\n",
    "# print model summary\n",
    "email_model.summary()"
   ]
  },
  {
   "cell_type": "code",
   "execution_count": 67,
   "metadata": {},
   "outputs": [
    {
     "name": "stdout",
     "output_type": "stream",
     "text": [
      "Epoch 1/100\n",
      "344/344 [==============================] - 6s 18ms/step - loss: 2.7252 - accuracy: 0.1647 - val_loss: 2.4825 - val_accuracy: 0.2617\n",
      "Epoch 2/100\n",
      "344/344 [==============================] - 7s 21ms/step - loss: 2.4440 - accuracy: 0.2734 - val_loss: 2.3259 - val_accuracy: 0.3173\n",
      "Epoch 3/100\n",
      "344/344 [==============================] - 5s 14ms/step - loss: 2.3007 - accuracy: 0.3117 - val_loss: 2.2110 - val_accuracy: 0.3328\n",
      "Epoch 4/100\n",
      "344/344 [==============================] - 5s 15ms/step - loss: 2.1663 - accuracy: 0.3531 - val_loss: 2.1285 - val_accuracy: 0.3614\n",
      "Epoch 5/100\n",
      "344/344 [==============================] - 5s 15ms/step - loss: 2.0706 - accuracy: 0.3775 - val_loss: 2.0666 - val_accuracy: 0.3835\n",
      "Epoch 6/100\n",
      "344/344 [==============================] - 7s 22ms/step - loss: 1.9833 - accuracy: 0.4099 - val_loss: 1.9285 - val_accuracy: 0.4309\n",
      "Epoch 7/100\n",
      "344/344 [==============================] - 5s 16ms/step - loss: 1.8988 - accuracy: 0.4340 - val_loss: 1.8839 - val_accuracy: 0.4530\n",
      "Epoch 8/100\n",
      "344/344 [==============================] - 6s 17ms/step - loss: 1.8217 - accuracy: 0.4574 - val_loss: 1.8408 - val_accuracy: 0.4522\n",
      "Epoch 9/100\n",
      "344/344 [==============================] - 6s 19ms/step - loss: 1.7537 - accuracy: 0.4787 - val_loss: 1.8015 - val_accuracy: 0.4767\n",
      "Epoch 10/100\n",
      "344/344 [==============================] - 4s 11ms/step - loss: 1.6948 - accuracy: 0.4972 - val_loss: 1.7508 - val_accuracy: 0.4890\n",
      "Epoch 11/100\n",
      "344/344 [==============================] - 4s 11ms/step - loss: 1.6328 - accuracy: 0.5155 - val_loss: 1.6722 - val_accuracy: 0.5020\n",
      "Epoch 12/100\n",
      "344/344 [==============================] - 4s 11ms/step - loss: 1.5676 - accuracy: 0.5318 - val_loss: 1.6308 - val_accuracy: 0.5053\n",
      "Epoch 13/100\n",
      "344/344 [==============================] - 4s 11ms/step - loss: 1.5087 - accuracy: 0.5449 - val_loss: 1.5863 - val_accuracy: 0.5339\n",
      "Epoch 14/100\n",
      "344/344 [==============================] - 4s 12ms/step - loss: 1.4559 - accuracy: 0.5644 - val_loss: 1.5470 - val_accuracy: 0.5560\n",
      "Epoch 15/100\n",
      "344/344 [==============================] - 4s 12ms/step - loss: 1.4155 - accuracy: 0.5723 - val_loss: 1.5273 - val_accuracy: 0.5527\n",
      "Epoch 16/100\n",
      "344/344 [==============================] - 4s 12ms/step - loss: 1.3692 - accuracy: 0.5822 - val_loss: 1.5430 - val_accuracy: 0.5503\n",
      "Epoch 17/100\n",
      "344/344 [==============================] - 4s 11ms/step - loss: 1.3351 - accuracy: 0.5958 - val_loss: 1.5194 - val_accuracy: 0.5601\n",
      "Epoch 18/100\n",
      "344/344 [==============================] - 4s 12ms/step - loss: 1.2898 - accuracy: 0.6065 - val_loss: 1.4961 - val_accuracy: 0.5699\n",
      "Epoch 19/100\n",
      "344/344 [==============================] - 4s 11ms/step - loss: 1.2437 - accuracy: 0.6213 - val_loss: 1.4751 - val_accuracy: 0.5527\n",
      "Epoch 20/100\n",
      "344/344 [==============================] - 4s 12ms/step - loss: 1.2162 - accuracy: 0.6282 - val_loss: 1.5217 - val_accuracy: 0.5560\n",
      "Epoch 21/100\n",
      "344/344 [==============================] - 4s 11ms/step - loss: 1.1748 - accuracy: 0.6367 - val_loss: 1.5144 - val_accuracy: 0.5519\n",
      "Epoch 22/100\n",
      "344/344 [==============================] - 4s 12ms/step - loss: 1.1527 - accuracy: 0.6494 - val_loss: 1.4984 - val_accuracy: 0.5732\n",
      "Epoch 23/100\n",
      "344/344 [==============================] - 4s 12ms/step - loss: 1.1167 - accuracy: 0.6554 - val_loss: 1.4921 - val_accuracy: 0.5568\n",
      "Epoch 24/100\n",
      "344/344 [==============================] - 4s 11ms/step - loss: 1.0872 - accuracy: 0.6676 - val_loss: 1.4789 - val_accuracy: 0.5675\n",
      "Epoch 25/100\n",
      "344/344 [==============================] - 4s 11ms/step - loss: 1.0692 - accuracy: 0.6635 - val_loss: 1.4731 - val_accuracy: 0.5732\n",
      "Epoch 26/100\n",
      "344/344 [==============================] - 4s 12ms/step - loss: 1.0331 - accuracy: 0.6836 - val_loss: 1.4769 - val_accuracy: 0.5691\n",
      "Epoch 27/100\n",
      "344/344 [==============================] - 4s 12ms/step - loss: 1.0041 - accuracy: 0.6900 - val_loss: 1.4533 - val_accuracy: 0.5789\n",
      "Epoch 28/100\n",
      "344/344 [==============================] - 4s 11ms/step - loss: 0.9843 - accuracy: 0.6967 - val_loss: 1.5250 - val_accuracy: 0.5560\n",
      "Epoch 29/100\n",
      "344/344 [==============================] - 4s 11ms/step - loss: 0.9715 - accuracy: 0.6943 - val_loss: 1.4556 - val_accuracy: 0.5961\n",
      "Epoch 30/100\n",
      "344/344 [==============================] - 4s 12ms/step - loss: 0.9354 - accuracy: 0.7075 - val_loss: 1.4877 - val_accuracy: 0.5715\n",
      "Epoch 31/100\n",
      "344/344 [==============================] - 4s 12ms/step - loss: 0.9162 - accuracy: 0.7174 - val_loss: 1.4644 - val_accuracy: 0.5822\n",
      "Epoch 32/100\n",
      "344/344 [==============================] - 4s 12ms/step - loss: 0.8961 - accuracy: 0.7177 - val_loss: 1.4894 - val_accuracy: 0.5781\n",
      "Epoch 33/100\n",
      "344/344 [==============================] - 4s 11ms/step - loss: 0.8856 - accuracy: 0.7261 - val_loss: 1.4833 - val_accuracy: 0.5838\n",
      "Epoch 34/100\n",
      "344/344 [==============================] - 4s 12ms/step - loss: 0.8581 - accuracy: 0.7315 - val_loss: 1.5366 - val_accuracy: 0.5732\n",
      "Epoch 35/100\n",
      "344/344 [==============================] - 4s 12ms/step - loss: 0.8487 - accuracy: 0.7331 - val_loss: 1.5109 - val_accuracy: 0.5773\n",
      "Epoch 36/100\n",
      "344/344 [==============================] - 4s 12ms/step - loss: 0.8253 - accuracy: 0.7393 - val_loss: 1.4911 - val_accuracy: 0.5846\n",
      "Epoch 37/100\n",
      "344/344 [==============================] - 4s 11ms/step - loss: 0.8140 - accuracy: 0.7414 - val_loss: 1.5378 - val_accuracy: 0.5936\n",
      "Epoch 38/100\n",
      "344/344 [==============================] - 4s 12ms/step - loss: 0.7994 - accuracy: 0.7510 - val_loss: 1.5365 - val_accuracy: 0.5805\n",
      "Epoch 39/100\n",
      "344/344 [==============================] - 4s 12ms/step - loss: 0.7831 - accuracy: 0.7551 - val_loss: 1.5166 - val_accuracy: 0.5781\n",
      "Epoch 40/100\n",
      "344/344 [==============================] - 4s 12ms/step - loss: 0.7646 - accuracy: 0.7585 - val_loss: 1.5164 - val_accuracy: 0.5838\n",
      "Epoch 41/100\n",
      "344/344 [==============================] - 4s 11ms/step - loss: 0.7499 - accuracy: 0.7605 - val_loss: 1.5595 - val_accuracy: 0.5854\n",
      "Epoch 42/100\n",
      "344/344 [==============================] - 4s 11ms/step - loss: 0.7327 - accuracy: 0.7673 - val_loss: 1.6051 - val_accuracy: 0.5814\n",
      "Epoch 43/100\n",
      "344/344 [==============================] - 4s 12ms/step - loss: 0.7170 - accuracy: 0.7757 - val_loss: 1.6001 - val_accuracy: 0.5748\n",
      "Epoch 44/100\n",
      "344/344 [==============================] - 4s 12ms/step - loss: 0.7068 - accuracy: 0.7758 - val_loss: 1.5748 - val_accuracy: 0.5879\n",
      "Epoch 45/100\n",
      "344/344 [==============================] - 4s 11ms/step - loss: 0.6951 - accuracy: 0.7774 - val_loss: 1.5998 - val_accuracy: 0.5724\n",
      "Epoch 46/100\n",
      "344/344 [==============================] - 4s 11ms/step - loss: 0.6787 - accuracy: 0.7812 - val_loss: 1.5935 - val_accuracy: 0.5854\n",
      "Epoch 47/100\n",
      "344/344 [==============================] - 4s 11ms/step - loss: 0.6752 - accuracy: 0.7852 - val_loss: 1.6170 - val_accuracy: 0.5977\n",
      "Epoch 48/100\n",
      "344/344 [==============================] - 4s 12ms/step - loss: 0.6580 - accuracy: 0.7894 - val_loss: 1.6312 - val_accuracy: 0.5871\n",
      "Epoch 49/100\n",
      "344/344 [==============================] - 4s 11ms/step - loss: 0.6469 - accuracy: 0.7915 - val_loss: 1.6206 - val_accuracy: 0.5961\n",
      "Epoch 50/100\n",
      "344/344 [==============================] - 4s 11ms/step - loss: 0.6230 - accuracy: 0.7982 - val_loss: 1.6361 - val_accuracy: 0.5928\n",
      "Epoch 51/100\n",
      "344/344 [==============================] - 4s 12ms/step - loss: 0.6286 - accuracy: 0.7973 - val_loss: 1.6663 - val_accuracy: 0.5936\n",
      "Epoch 52/100\n",
      "344/344 [==============================] - 4s 11ms/step - loss: 0.6228 - accuracy: 0.7972 - val_loss: 1.6208 - val_accuracy: 0.5928\n",
      "Epoch 53/100\n",
      "344/344 [==============================] - 4s 12ms/step - loss: 0.6130 - accuracy: 0.8005 - val_loss: 1.6383 - val_accuracy: 0.5887\n",
      "Epoch 54/100\n",
      "344/344 [==============================] - 4s 11ms/step - loss: 0.5957 - accuracy: 0.8053 - val_loss: 1.6220 - val_accuracy: 0.5846\n",
      "Epoch 55/100\n",
      "344/344 [==============================] - 4s 11ms/step - loss: 0.5762 - accuracy: 0.8109 - val_loss: 1.6483 - val_accuracy: 0.5805\n",
      "Epoch 56/100\n",
      "344/344 [==============================] - 4s 12ms/step - loss: 0.5897 - accuracy: 0.8098 - val_loss: 1.6627 - val_accuracy: 0.5977\n",
      "Epoch 57/100\n"
     ]
    },
    {
     "name": "stdout",
     "output_type": "stream",
     "text": [
      "344/344 [==============================] - 4s 11ms/step - loss: 0.5707 - accuracy: 0.8146 - val_loss: 1.7038 - val_accuracy: 0.5961\n",
      "Epoch 58/100\n",
      "344/344 [==============================] - 4s 11ms/step - loss: 0.5725 - accuracy: 0.8122 - val_loss: 1.6744 - val_accuracy: 0.5805\n",
      "Epoch 59/100\n",
      "344/344 [==============================] - 4s 12ms/step - loss: 0.5469 - accuracy: 0.8224 - val_loss: 1.7394 - val_accuracy: 0.5871\n",
      "Epoch 60/100\n",
      "344/344 [==============================] - 4s 12ms/step - loss: 0.5433 - accuracy: 0.8238 - val_loss: 1.6880 - val_accuracy: 0.5944\n",
      "Epoch 61/100\n",
      "344/344 [==============================] - 4s 11ms/step - loss: 0.5393 - accuracy: 0.8253 - val_loss: 1.6614 - val_accuracy: 0.5977\n",
      "Epoch 62/100\n",
      "344/344 [==============================] - 4s 11ms/step - loss: 0.5445 - accuracy: 0.8226 - val_loss: 1.7141 - val_accuracy: 0.5871\n",
      "Epoch 63/100\n",
      "344/344 [==============================] - 4s 11ms/step - loss: 0.5220 - accuracy: 0.8291 - val_loss: 1.7423 - val_accuracy: 0.5879\n",
      "Epoch 64/100\n",
      "344/344 [==============================] - 4s 12ms/step - loss: 0.5234 - accuracy: 0.8310 - val_loss: 1.6805 - val_accuracy: 0.6026\n",
      "Epoch 65/100\n",
      "344/344 [==============================] - 4s 11ms/step - loss: 0.5090 - accuracy: 0.8326 - val_loss: 1.7070 - val_accuracy: 0.5977\n",
      "Epoch 66/100\n",
      "344/344 [==============================] - 4s 11ms/step - loss: 0.5042 - accuracy: 0.8338 - val_loss: 1.7399 - val_accuracy: 0.6059\n",
      "Epoch 67/100\n",
      "344/344 [==============================] - 4s 11ms/step - loss: 0.5102 - accuracy: 0.8299 - val_loss: 1.6899 - val_accuracy: 0.6124\n",
      "Epoch 68/100\n",
      "344/344 [==============================] - 4s 11ms/step - loss: 0.4844 - accuracy: 0.8411 - val_loss: 1.7720 - val_accuracy: 0.5920\n",
      "Epoch 69/100\n",
      "344/344 [==============================] - 4s 11ms/step - loss: 0.4769 - accuracy: 0.8418 - val_loss: 1.8324 - val_accuracy: 0.5887\n",
      "Epoch 70/100\n",
      "344/344 [==============================] - 4s 11ms/step - loss: 0.4687 - accuracy: 0.8449 - val_loss: 1.7654 - val_accuracy: 0.5953\n",
      "Epoch 71/100\n",
      "344/344 [==============================] - 4s 11ms/step - loss: 0.4705 - accuracy: 0.8458 - val_loss: 1.8048 - val_accuracy: 0.6051\n",
      "Epoch 72/100\n",
      "344/344 [==============================] - 4s 11ms/step - loss: 0.4654 - accuracy: 0.8467 - val_loss: 1.7751 - val_accuracy: 0.6010\n",
      "Epoch 73/100\n",
      "344/344 [==============================] - 4s 11ms/step - loss: 0.4686 - accuracy: 0.8441 - val_loss: 1.7543 - val_accuracy: 0.6051\n",
      "Epoch 74/100\n",
      "344/344 [==============================] - 4s 11ms/step - loss: 0.4485 - accuracy: 0.8523 - val_loss: 1.7930 - val_accuracy: 0.6010\n",
      "Epoch 75/100\n",
      "344/344 [==============================] - 4s 11ms/step - loss: 0.4517 - accuracy: 0.8469 - val_loss: 1.8520 - val_accuracy: 0.5944\n",
      "Epoch 76/100\n",
      "344/344 [==============================] - 4s 11ms/step - loss: 0.4408 - accuracy: 0.8493 - val_loss: 1.8722 - val_accuracy: 0.5936\n",
      "Epoch 77/100\n",
      "344/344 [==============================] - 4s 12ms/step - loss: 0.4394 - accuracy: 0.8533 - val_loss: 1.8497 - val_accuracy: 0.6018\n",
      "Epoch 78/100\n",
      "344/344 [==============================] - 4s 11ms/step - loss: 0.4380 - accuracy: 0.8531 - val_loss: 1.8596 - val_accuracy: 0.5936\n",
      "Epoch 79/100\n",
      "344/344 [==============================] - 4s 11ms/step - loss: 0.4358 - accuracy: 0.8545 - val_loss: 1.9109 - val_accuracy: 0.5846\n",
      "Epoch 80/100\n",
      "344/344 [==============================] - 4s 11ms/step - loss: 0.4149 - accuracy: 0.8591 - val_loss: 1.8968 - val_accuracy: 0.5863\n",
      "Epoch 81/100\n",
      "344/344 [==============================] - 4s 11ms/step - loss: 0.4114 - accuracy: 0.8636 - val_loss: 1.9176 - val_accuracy: 0.5904\n",
      "Epoch 82/100\n",
      "344/344 [==============================] - 4s 11ms/step - loss: 0.4137 - accuracy: 0.8649 - val_loss: 1.9219 - val_accuracy: 0.5912\n",
      "Epoch 83/100\n",
      "344/344 [==============================] - 4s 12ms/step - loss: 0.4167 - accuracy: 0.8592 - val_loss: 1.9343 - val_accuracy: 0.6034\n",
      "Epoch 84/100\n",
      "344/344 [==============================] - 4s 11ms/step - loss: 0.4122 - accuracy: 0.8621 - val_loss: 1.9364 - val_accuracy: 0.5871\n",
      "Epoch 85/100\n",
      "344/344 [==============================] - 4s 11ms/step - loss: 0.4133 - accuracy: 0.8599 - val_loss: 1.9168 - val_accuracy: 0.6002\n",
      "Epoch 86/100\n",
      "344/344 [==============================] - 4s 11ms/step - loss: 0.4018 - accuracy: 0.8650 - val_loss: 1.9140 - val_accuracy: 0.5904\n",
      "Epoch 87/100\n",
      "344/344 [==============================] - 4s 11ms/step - loss: 0.3883 - accuracy: 0.8723 - val_loss: 1.9388 - val_accuracy: 0.5928\n",
      "Epoch 88/100\n",
      "344/344 [==============================] - 4s 12ms/step - loss: 0.3942 - accuracy: 0.8687 - val_loss: 1.9075 - val_accuracy: 0.5961\n",
      "Epoch 89/100\n",
      "344/344 [==============================] - 4s 11ms/step - loss: 0.3920 - accuracy: 0.8681 - val_loss: 1.9727 - val_accuracy: 0.5928\n",
      "Epoch 90/100\n",
      "344/344 [==============================] - 4s 11ms/step - loss: 0.3939 - accuracy: 0.8685 - val_loss: 1.9408 - val_accuracy: 0.5961\n",
      "Epoch 91/100\n",
      "344/344 [==============================] - 4s 11ms/step - loss: 0.3904 - accuracy: 0.8694 - val_loss: 1.9694 - val_accuracy: 0.5846\n",
      "Epoch 92/100\n",
      "344/344 [==============================] - 4s 11ms/step - loss: 0.3820 - accuracy: 0.8706 - val_loss: 1.9532 - val_accuracy: 0.5895\n",
      "Epoch 93/100\n",
      "344/344 [==============================] - 4s 12ms/step - loss: 0.3838 - accuracy: 0.8686 - val_loss: 2.0224 - val_accuracy: 0.5838\n",
      "Epoch 94/100\n",
      "344/344 [==============================] - 4s 11ms/step - loss: 0.3692 - accuracy: 0.8750 - val_loss: 1.9990 - val_accuracy: 0.5895\n",
      "Epoch 95/100\n",
      "344/344 [==============================] - 4s 11ms/step - loss: 0.3664 - accuracy: 0.8768 - val_loss: 1.9625 - val_accuracy: 0.5993\n",
      "Epoch 96/100\n",
      "344/344 [==============================] - 4s 11ms/step - loss: 0.3737 - accuracy: 0.8723 - val_loss: 1.9686 - val_accuracy: 0.5977\n",
      "Epoch 97/100\n",
      "344/344 [==============================] - 4s 12ms/step - loss: 0.3660 - accuracy: 0.8764 - val_loss: 2.0422 - val_accuracy: 0.5944\n",
      "Epoch 98/100\n",
      "344/344 [==============================] - 4s 12ms/step - loss: 0.3559 - accuracy: 0.8792 - val_loss: 2.0253 - val_accuracy: 0.5863\n",
      "Epoch 99/100\n",
      "344/344 [==============================] - 4s 11ms/step - loss: 0.3527 - accuracy: 0.8799 - val_loss: 2.0373 - val_accuracy: 0.5969\n",
      "Epoch 100/100\n",
      "344/344 [==============================] - 4s 12ms/step - loss: 0.3566 - accuracy: 0.8791 - val_loss: 2.0387 - val_accuracy: 0.5928\n",
      "Training time (minutes):  6.96\n"
     ]
    }
   ],
   "source": [
    "start = time.time()\n",
    "\n",
    "# train the model\n",
    "email_hist = email_model.fit(train_padded_docs, Y_train, epochs=100, verbose=1, validation_split=0.1)\n",
    "\n",
    "print(\"Training time (minutes): \", (round((time.time() - start)/60, 2)))"
   ]
  },
  {
   "cell_type": "code",
   "execution_count": 68,
   "metadata": {},
   "outputs": [
    {
     "name": "stdout",
     "output_type": "stream",
     "text": [
      "Train Accuracy: 0.907    Loss: 0.366\n",
      "Test Accuracy:  0.578    Loss: 2.247\n"
     ]
    }
   ],
   "source": [
    "# evaluate the model\n",
    "email_train_eval = email_model.evaluate(train_padded_docs, Y_train, verbose=0)\n",
    "email_test_eval = email_model.evaluate(test_padded_docs, Y_test, verbose=0)\n",
    "\n",
    "print(\"Train Accuracy: {:0.3f}    Loss: {:0.3f}\".format(email_train_eval[1], email_train_eval[0]))\n",
    "print(\"Test Accuracy:  {:0.3f}    Loss: {:0.3f}\".format(email_test_eval[1], email_test_eval[0]))"
   ]
  },
  {
   "cell_type": "code",
   "execution_count": 69,
   "metadata": {},
   "outputs": [
    {
     "data": {
      "image/png": "[encoded data removed]",
      "text/plain": [
       "<Figure size 864x432 with 2 Axes>"
      ]
     },
     "metadata": {
      "needs_background": "light"
     },
     "output_type": "display_data"
    }
   ],
   "source": [
    "fig, axis = plt.subplots(1,2, figsize=(12, 6))\n",
    "# plot the loss\n",
    "axis[0].set_title(\"Loss\")\n",
    "axis[0].plot(email_hist.history['loss'], label='train')\n",
    "axis[0].plot(email_hist.history['val_loss'], label='validation')\n",
    "axis[0].legend()\n",
    "axis[0].set_xlabel('Epochs')\n",
    "axis[0].set_ylabel(\"Loss\")\n",
    "\n",
    "# plot the accuracy\n",
    "axis[1].set_title(\"Accuracy\")\n",
    "axis[1].plot(email_hist.history['accuracy'], label='train')\n",
    "axis[1].plot(email_hist.history['val_accuracy'], label='validation')\n",
    "axis[1].legend()\n",
    "axis[1].set_xlabel('Epochs')\n",
    "axis[1].set_ylabel(\"Accuracy\")\n",
    "\n",
    "plt.show()"
   ]
  },
  {
   "cell_type": "markdown",
   "metadata": {},
   "source": [
    "# Stanford Word Embeddings"
   ]
  },
  {
   "cell_type": "code",
   "execution_count": 70,
   "metadata": {},
   "outputs": [],
   "source": [
    "import gensim\n",
    "import gensim.downloader as api\n",
    "import os\n",
    "from gensim.scripts.glove2word2vec import glove2word2vec"
   ]
  },
  {
   "cell_type": "code",
   "execution_count": 71,
   "metadata": {},
   "outputs": [],
   "source": [
    "#df = pd.read_csv(\"D:\\\\marke\\\\data\\\\enron\\\\data\\\\cleaned_data.csv\")"
   ]
  },
  {
   "cell_type": "code",
   "execution_count": 72,
   "metadata": {},
   "outputs": [
    {
     "data": {
      "text/plain": [
       "(400001, 300)"
      ]
     },
     "execution_count": 72,
     "metadata": {},
     "output_type": "execute_result"
    }
   ],
   "source": [
    "# load Stanford's pre-trained GloVe embeddings\n",
    "glove_file = \"D:\\\\Reed\\\\RelxLearn\\\\Glove\\\\glove.6B.300d.txt\"\n",
    "glove_word2vec_file = \"glove.6B.300d.txt.word2vec\"\n",
    "\n",
    "glove2word2vec(glove_file, glove_word2vec_file)"
   ]
  },
  {
   "cell_type": "code",
   "execution_count": 73,
   "metadata": {},
   "outputs": [
    {
     "name": "stdout",
     "output_type": "stream",
     "text": [
      "Load time (seconds):  121.93923878669739\n"
     ]
    }
   ],
   "source": [
    "# glove embeddings\n",
    "start = time.time()\n",
    "\n",
    "glove_embeddings = KeyedVectors.load_word2vec_format(glove_word2vec_file, binary=False)\n",
    "\n",
    "print(\"Load time (seconds): \", (time.time() - start))"
   ]
  },
  {
   "cell_type": "code",
   "execution_count": 74,
   "metadata": {},
   "outputs": [],
   "source": [
    "# create embedding matrix\n",
    "embedding_matrix = np.zeros((vocab_size, 300))\n",
    "\n",
    "count = 0\n",
    "\n",
    "for word, i in t.word_index.items():\n",
    "    if word in glove_embeddings.wv.vocab.keys():\n",
    "        embedding_vector = glove_embeddings[word]\n",
    "    \n",
    "        if embedding_vector is not None:\n",
    "            embedding_matrix[i] = embedding_vector\n",
    "            \n",
    "    elif word in email_embeddings.wv.vocab.keys():\n",
    "        embedding_vector = email_embeddings[word]\n",
    "        \n",
    "        if embedding_vector is not None:\n",
    "            embedding_matrix[i] = embedding_vector\n",
    "            \n",
    "    else: \n",
    "        count += 1"
   ]
  },
  {
   "cell_type": "code",
   "execution_count": 75,
   "metadata": {},
   "outputs": [
    {
     "name": "stdout",
     "output_type": "stream",
     "text": [
      "Model: \"sequential_1\"\n",
      "_________________________________________________________________\n",
      "Layer (type)                 Output Shape              Param #   \n",
      "=================================================================\n",
      "embedding_1 (Embedding)      (None, 100, 300)          52499400  \n",
      "_________________________________________________________________\n",
      "lstm_1 (LSTM)                (None, 100)               160400    \n",
      "_________________________________________________________________\n",
      "flatten_1 (Flatten)          (None, 100)               0         \n",
      "_________________________________________________________________\n",
      "dense_1 (Dense)              (None, 20)                2020      \n",
      "=================================================================\n",
      "Total params: 52,661,820\n",
      "Trainable params: 162,420\n",
      "Non-trainable params: 52,499,400\n",
      "_________________________________________________________________\n"
     ]
    }
   ],
   "source": [
    "# define the model\n",
    "glove_model = Sequential()\n",
    "e = Embedding(vocab_size, 300, weights=[embedding_matrix], input_length=100, trainable=False)\n",
    "glove_model.add(e)\n",
    "glove_model.add(LSTM(100, dropout=0.4))\n",
    "glove_model.add(Flatten())\n",
    "glove_model.add(Dense(20, activation='softmax'))\n",
    "\n",
    "# compile the model\n",
    "glove_model.compile(optimizer='adam', loss='categorical_crossentropy', metrics=['accuracy'])\n",
    "\n",
    "# print model summary\n",
    "glove_model.summary()"
   ]
  },
  {
   "cell_type": "code",
   "execution_count": 76,
   "metadata": {},
   "outputs": [
    {
     "name": "stdout",
     "output_type": "stream",
     "text": [
      "('Failed to import pydot. You must `pip install pydot` and install graphviz (https://graphviz.gitlab.io/download/), ', 'for `pydotprint` to work.')\n"
     ]
    }
   ],
   "source": [
    "tf.keras.utils.plot_model(glove_model, show_shapes=True)"
   ]
  },
  {
   "cell_type": "code",
   "execution_count": 77,
   "metadata": {},
   "outputs": [
    {
     "name": "stdout",
     "output_type": "stream",
     "text": [
      "Epoch 1/100\n",
      "344/344 [==============================] - 4s 13ms/step - loss: 2.6935 - accuracy: 0.1924 - val_loss: 2.4688 - val_accuracy: 0.2715\n",
      "Epoch 2/100\n",
      "344/344 [==============================] - 4s 11ms/step - loss: 2.4510 - accuracy: 0.2791 - val_loss: 2.2465 - val_accuracy: 0.3369\n",
      "Epoch 3/100\n",
      "344/344 [==============================] - 4s 11ms/step - loss: 2.2432 - accuracy: 0.3345 - val_loss: 2.1437 - val_accuracy: 0.3704\n",
      "Epoch 4/100\n",
      "344/344 [==============================] - 4s 11ms/step - loss: 2.0670 - accuracy: 0.3746 - val_loss: 1.9113 - val_accuracy: 0.3998\n",
      "Epoch 5/100\n",
      "344/344 [==============================] - 4s 11ms/step - loss: 2.0954 - accuracy: 0.3821 - val_loss: 2.0007 - val_accuracy: 0.4064\n",
      "Epoch 6/100\n",
      "344/344 [==============================] - 4s 11ms/step - loss: 2.0731 - accuracy: 0.3885 - val_loss: 1.8780 - val_accuracy: 0.4350\n",
      "Epoch 7/100\n",
      "344/344 [==============================] - 4s 11ms/step - loss: 1.8382 - accuracy: 0.4602 - val_loss: 1.7121 - val_accuracy: 0.4873\n",
      "Epoch 8/100\n",
      "344/344 [==============================] - 4s 11ms/step - loss: 1.6633 - accuracy: 0.5054 - val_loss: 1.5686 - val_accuracy: 0.5249\n",
      "Epoch 9/100\n",
      "344/344 [==============================] - 4s 11ms/step - loss: 1.5063 - accuracy: 0.5530 - val_loss: 1.4410 - val_accuracy: 0.5748\n",
      "Epoch 10/100\n",
      "344/344 [==============================] - 4s 11ms/step - loss: 1.3707 - accuracy: 0.5862 - val_loss: 1.3617 - val_accuracy: 0.5838\n",
      "Epoch 11/100\n",
      "344/344 [==============================] - 4s 11ms/step - loss: 1.2757 - accuracy: 0.6170 - val_loss: 1.2582 - val_accuracy: 0.6247\n",
      "Epoch 12/100\n",
      "344/344 [==============================] - 4s 11ms/step - loss: 1.1961 - accuracy: 0.6385 - val_loss: 1.2344 - val_accuracy: 0.6402\n",
      "Epoch 13/100\n",
      "344/344 [==============================] - 4s 12ms/step - loss: 1.1393 - accuracy: 0.6523 - val_loss: 1.1746 - val_accuracy: 0.6435\n",
      "Epoch 14/100\n",
      "344/344 [==============================] - 4s 11ms/step - loss: 1.0827 - accuracy: 0.6709 - val_loss: 1.0938 - val_accuracy: 0.6664\n",
      "Epoch 15/100\n",
      "344/344 [==============================] - 4s 11ms/step - loss: 0.9812 - accuracy: 0.6996 - val_loss: 1.0814 - val_accuracy: 0.6795\n",
      "Epoch 16/100\n",
      "344/344 [==============================] - 4s 11ms/step - loss: 0.9301 - accuracy: 0.7140 - val_loss: 1.0058 - val_accuracy: 0.7105\n",
      "Epoch 17/100\n",
      "344/344 [==============================] - 4s 11ms/step - loss: 0.9912 - accuracy: 0.6899 - val_loss: 1.0181 - val_accuracy: 0.6926\n",
      "Epoch 18/100\n",
      "344/344 [==============================] - 4s 11ms/step - loss: 0.8779 - accuracy: 0.7297 - val_loss: 0.9814 - val_accuracy: 0.6934\n",
      "Epoch 19/100\n",
      "344/344 [==============================] - 4s 11ms/step - loss: 0.8343 - accuracy: 0.7395 - val_loss: 0.9646 - val_accuracy: 0.7171\n",
      "Epoch 20/100\n",
      "344/344 [==============================] - 4s 11ms/step - loss: 0.8048 - accuracy: 0.7538 - val_loss: 0.9373 - val_accuracy: 0.7236\n",
      "Epoch 21/100\n",
      "344/344 [==============================] - 4s 11ms/step - loss: 0.7664 - accuracy: 0.7622 - val_loss: 0.9463 - val_accuracy: 0.7261\n",
      "Epoch 22/100\n",
      "344/344 [==============================] - 4s 11ms/step - loss: 0.7285 - accuracy: 0.7725 - val_loss: 0.9266 - val_accuracy: 0.7359\n",
      "Epoch 23/100\n",
      "344/344 [==============================] - 4s 11ms/step - loss: 0.7202 - accuracy: 0.7733 - val_loss: 0.9129 - val_accuracy: 0.7334\n",
      "Epoch 24/100\n",
      "344/344 [==============================] - 4s 11ms/step - loss: 0.6932 - accuracy: 0.7825 - val_loss: 0.9396 - val_accuracy: 0.7228\n",
      "Epoch 25/100\n",
      "344/344 [==============================] - 4s 11ms/step - loss: 0.6706 - accuracy: 0.7875 - val_loss: 0.9297 - val_accuracy: 0.7383\n",
      "Epoch 26/100\n",
      "344/344 [==============================] - 4s 11ms/step - loss: 0.6494 - accuracy: 0.7907 - val_loss: 0.9072 - val_accuracy: 0.7506\n",
      "Epoch 27/100\n",
      "344/344 [==============================] - 4s 11ms/step - loss: 0.6192 - accuracy: 0.8030 - val_loss: 0.8842 - val_accuracy: 0.7441\n",
      "Epoch 28/100\n",
      "344/344 [==============================] - 4s 11ms/step - loss: 0.5958 - accuracy: 0.8101 - val_loss: 0.9012 - val_accuracy: 0.7465\n",
      "Epoch 29/100\n",
      "344/344 [==============================] - 4s 11ms/step - loss: 0.5782 - accuracy: 0.8139 - val_loss: 0.8769 - val_accuracy: 0.7522\n",
      "Epoch 30/100\n",
      "344/344 [==============================] - 4s 12ms/step - loss: 0.5505 - accuracy: 0.8241 - val_loss: 0.8976 - val_accuracy: 0.7514\n",
      "Epoch 31/100\n",
      "344/344 [==============================] - 4s 11ms/step - loss: 0.5425 - accuracy: 0.8234 - val_loss: 0.8815 - val_accuracy: 0.7531\n",
      "Epoch 32/100\n",
      "344/344 [==============================] - 4s 11ms/step - loss: 0.5102 - accuracy: 0.8356 - val_loss: 0.8815 - val_accuracy: 0.7629\n",
      "Epoch 33/100\n",
      "344/344 [==============================] - 4s 11ms/step - loss: 0.5042 - accuracy: 0.8327 - val_loss: 0.8816 - val_accuracy: 0.7588\n",
      "Epoch 34/100\n",
      "344/344 [==============================] - 4s 11ms/step - loss: 0.4860 - accuracy: 0.8441 - val_loss: 0.8613 - val_accuracy: 0.7547\n",
      "Epoch 35/100\n",
      "344/344 [==============================] - 4s 11ms/step - loss: 0.4685 - accuracy: 0.8481 - val_loss: 0.8627 - val_accuracy: 0.7711\n",
      "Epoch 36/100\n",
      "344/344 [==============================] - 4s 11ms/step - loss: 0.4521 - accuracy: 0.8481 - val_loss: 0.8351 - val_accuracy: 0.7751\n",
      "Epoch 37/100\n",
      "344/344 [==============================] - 4s 11ms/step - loss: 0.4283 - accuracy: 0.8588 - val_loss: 0.8761 - val_accuracy: 0.7621\n",
      "Epoch 38/100\n",
      "344/344 [==============================] - 4s 11ms/step - loss: 0.4263 - accuracy: 0.8593 - val_loss: 0.8821 - val_accuracy: 0.7686\n",
      "Epoch 39/100\n",
      "344/344 [==============================] - 4s 12ms/step - loss: 0.4158 - accuracy: 0.8612 - val_loss: 0.9080 - val_accuracy: 0.7612\n",
      "Epoch 40/100\n",
      "344/344 [==============================] - 4s 11ms/step - loss: 0.4091 - accuracy: 0.8637 - val_loss: 0.9305 - val_accuracy: 0.7555\n",
      "Epoch 41/100\n",
      "344/344 [==============================] - 4s 11ms/step - loss: 0.3935 - accuracy: 0.8695 - val_loss: 0.8923 - val_accuracy: 0.7768\n",
      "Epoch 42/100\n",
      "344/344 [==============================] - 5s 13ms/step - loss: 0.3735 - accuracy: 0.8788 - val_loss: 0.8704 - val_accuracy: 0.7768\n",
      "Epoch 43/100\n",
      "344/344 [==============================] - 4s 11ms/step - loss: 0.3655 - accuracy: 0.8786 - val_loss: 0.8789 - val_accuracy: 0.7760\n",
      "Epoch 44/100\n",
      "344/344 [==============================] - 4s 11ms/step - loss: 0.3552 - accuracy: 0.8812 - val_loss: 0.8897 - val_accuracy: 0.7711\n",
      "Epoch 45/100\n",
      "344/344 [==============================] - 4s 11ms/step - loss: 0.3399 - accuracy: 0.8835 - val_loss: 0.9091 - val_accuracy: 0.7637\n",
      "Epoch 46/100\n",
      "344/344 [==============================] - 4s 11ms/step - loss: 0.3329 - accuracy: 0.8879 - val_loss: 0.9174 - val_accuracy: 0.7751\n",
      "Epoch 47/100\n",
      "344/344 [==============================] - 4s 11ms/step - loss: 0.3251 - accuracy: 0.8911 - val_loss: 0.9167 - val_accuracy: 0.7719\n",
      "Epoch 48/100\n",
      "344/344 [==============================] - 4s 11ms/step - loss: 0.3172 - accuracy: 0.8931 - val_loss: 0.8826 - val_accuracy: 0.7809\n",
      "Epoch 49/100\n",
      "344/344 [==============================] - 4s 11ms/step - loss: 0.3079 - accuracy: 0.8936 - val_loss: 0.9249 - val_accuracy: 0.7776\n",
      "Epoch 50/100\n",
      "344/344 [==============================] - 4s 11ms/step - loss: 0.3121 - accuracy: 0.8949 - val_loss: 0.9198 - val_accuracy: 0.7792\n",
      "Epoch 51/100\n",
      "344/344 [==============================] - 4s 11ms/step - loss: 0.2957 - accuracy: 0.9006 - val_loss: 0.9118 - val_accuracy: 0.7800\n",
      "Epoch 52/100\n",
      "344/344 [==============================] - 4s 11ms/step - loss: 0.2907 - accuracy: 0.9023 - val_loss: 0.9244 - val_accuracy: 0.7686\n",
      "Epoch 53/100\n",
      "344/344 [==============================] - 4s 11ms/step - loss: 0.2805 - accuracy: 0.9054 - val_loss: 0.9131 - val_accuracy: 0.7727\n",
      "Epoch 54/100\n",
      "344/344 [==============================] - 4s 11ms/step - loss: 0.2729 - accuracy: 0.9039 - val_loss: 0.9434 - val_accuracy: 0.7735\n",
      "Epoch 55/100\n",
      "344/344 [==============================] - 4s 11ms/step - loss: 0.2833 - accuracy: 0.9044 - val_loss: 0.9078 - val_accuracy: 0.7825\n",
      "Epoch 56/100\n",
      "344/344 [==============================] - 4s 10ms/step - loss: 0.2643 - accuracy: 0.9083 - val_loss: 0.9403 - val_accuracy: 0.7825\n",
      "Epoch 57/100\n"
     ]
    },
    {
     "name": "stdout",
     "output_type": "stream",
     "text": [
      "344/344 [==============================] - 4s 11ms/step - loss: 0.2564 - accuracy: 0.9136 - val_loss: 0.9361 - val_accuracy: 0.7792\n",
      "Epoch 58/100\n",
      "344/344 [==============================] - 4s 11ms/step - loss: 0.2635 - accuracy: 0.9071 - val_loss: 0.9425 - val_accuracy: 0.7743\n",
      "Epoch 59/100\n",
      "344/344 [==============================] - 4s 11ms/step - loss: 0.2597 - accuracy: 0.9100 - val_loss: 0.9402 - val_accuracy: 0.7719\n",
      "Epoch 60/100\n",
      "344/344 [==============================] - 4s 11ms/step - loss: 0.2436 - accuracy: 0.9156 - val_loss: 0.9469 - val_accuracy: 0.7776\n",
      "Epoch 61/100\n",
      "344/344 [==============================] - 4s 11ms/step - loss: 0.2456 - accuracy: 0.9177 - val_loss: 0.9491 - val_accuracy: 0.7809\n",
      "Epoch 62/100\n",
      "344/344 [==============================] - 4s 11ms/step - loss: 0.2407 - accuracy: 0.9161 - val_loss: 0.9689 - val_accuracy: 0.7702\n",
      "Epoch 63/100\n",
      "344/344 [==============================] - 4s 11ms/step - loss: 0.2411 - accuracy: 0.9164 - val_loss: 0.9854 - val_accuracy: 0.7678\n",
      "Epoch 64/100\n",
      "344/344 [==============================] - 4s 11ms/step - loss: 0.2349 - accuracy: 0.9150 - val_loss: 0.9611 - val_accuracy: 0.7809\n",
      "Epoch 65/100\n",
      "344/344 [==============================] - 4s 11ms/step - loss: 0.2298 - accuracy: 0.9173 - val_loss: 0.9879 - val_accuracy: 0.7702\n",
      "Epoch 66/100\n",
      "344/344 [==============================] - 4s 11ms/step - loss: 0.2216 - accuracy: 0.9210 - val_loss: 0.9908 - val_accuracy: 0.7809\n",
      "Epoch 67/100\n",
      "344/344 [==============================] - 4s 11ms/step - loss: 0.2243 - accuracy: 0.9227 - val_loss: 0.9799 - val_accuracy: 0.7760\n",
      "Epoch 68/100\n",
      "344/344 [==============================] - 4s 11ms/step - loss: 0.2165 - accuracy: 0.9260 - val_loss: 0.9850 - val_accuracy: 0.7841\n",
      "Epoch 69/100\n",
      "344/344 [==============================] - 4s 11ms/step - loss: 0.2143 - accuracy: 0.9218 - val_loss: 0.9979 - val_accuracy: 0.7858\n",
      "Epoch 70/100\n",
      "344/344 [==============================] - 4s 11ms/step - loss: 0.2166 - accuracy: 0.9229 - val_loss: 1.0020 - val_accuracy: 0.7727\n",
      "Epoch 71/100\n",
      "344/344 [==============================] - 4s 11ms/step - loss: 0.2177 - accuracy: 0.9216 - val_loss: 0.9671 - val_accuracy: 0.7809\n",
      "Epoch 72/100\n",
      "344/344 [==============================] - 4s 11ms/step - loss: 0.2093 - accuracy: 0.9237 - val_loss: 1.0132 - val_accuracy: 0.7833\n",
      "Epoch 73/100\n",
      "344/344 [==============================] - 4s 11ms/step - loss: 0.2073 - accuracy: 0.9278 - val_loss: 1.0003 - val_accuracy: 0.7792\n",
      "Epoch 74/100\n",
      "344/344 [==============================] - 4s 11ms/step - loss: 0.2108 - accuracy: 0.9249 - val_loss: 0.9816 - val_accuracy: 0.7800\n",
      "Epoch 75/100\n",
      "344/344 [==============================] - 4s 11ms/step - loss: 0.2090 - accuracy: 0.9255 - val_loss: 0.9994 - val_accuracy: 0.7751\n",
      "Epoch 76/100\n",
      "344/344 [==============================] - 4s 11ms/step - loss: 0.2049 - accuracy: 0.9269 - val_loss: 1.0087 - val_accuracy: 0.7727\n",
      "Epoch 77/100\n",
      "344/344 [==============================] - 4s 11ms/step - loss: 0.1982 - accuracy: 0.9284 - val_loss: 0.9981 - val_accuracy: 0.7800\n",
      "Epoch 78/100\n",
      "344/344 [==============================] - 4s 11ms/step - loss: 0.2044 - accuracy: 0.9276 - val_loss: 1.0129 - val_accuracy: 0.7776\n",
      "Epoch 79/100\n",
      "344/344 [==============================] - 4s 11ms/step - loss: 0.1969 - accuracy: 0.9288 - val_loss: 1.0414 - val_accuracy: 0.7719\n",
      "Epoch 80/100\n",
      "344/344 [==============================] - 4s 11ms/step - loss: 0.1928 - accuracy: 0.9326 - val_loss: 1.0079 - val_accuracy: 0.7776\n",
      "Epoch 81/100\n",
      "344/344 [==============================] - 4s 11ms/step - loss: 0.1956 - accuracy: 0.9311 - val_loss: 1.0208 - val_accuracy: 0.7727\n",
      "Epoch 82/100\n",
      "344/344 [==============================] - 4s 11ms/step - loss: 0.1900 - accuracy: 0.9297 - val_loss: 1.0359 - val_accuracy: 0.7760\n",
      "Epoch 83/100\n",
      "344/344 [==============================] - 4s 11ms/step - loss: 0.1916 - accuracy: 0.9324 - val_loss: 1.0170 - val_accuracy: 0.7760\n",
      "Epoch 84/100\n",
      "344/344 [==============================] - 4s 11ms/step - loss: 0.2030 - accuracy: 0.9279 - val_loss: 1.0220 - val_accuracy: 0.7792\n",
      "Epoch 85/100\n",
      "344/344 [==============================] - 4s 11ms/step - loss: 0.1830 - accuracy: 0.9323 - val_loss: 1.0602 - val_accuracy: 0.7768\n",
      "Epoch 86/100\n",
      "344/344 [==============================] - 4s 12ms/step - loss: 0.1897 - accuracy: 0.9303 - val_loss: 1.0406 - val_accuracy: 0.7751\n",
      "Epoch 87/100\n",
      "344/344 [==============================] - 4s 12ms/step - loss: 0.1804 - accuracy: 0.9348 - val_loss: 1.0527 - val_accuracy: 0.7768\n",
      "Epoch 88/100\n",
      "344/344 [==============================] - 4s 12ms/step - loss: 0.1885 - accuracy: 0.9329 - val_loss: 1.0360 - val_accuracy: 0.7784\n",
      "Epoch 89/100\n",
      "344/344 [==============================] - 4s 11ms/step - loss: 0.1876 - accuracy: 0.9313 - val_loss: 1.0351 - val_accuracy: 0.7694\n",
      "Epoch 90/100\n",
      "344/344 [==============================] - 4s 11ms/step - loss: 0.1879 - accuracy: 0.9322 - val_loss: 1.0054 - val_accuracy: 0.7858\n",
      "Epoch 91/100\n",
      "344/344 [==============================] - 4s 12ms/step - loss: 0.1788 - accuracy: 0.9342 - val_loss: 1.0672 - val_accuracy: 0.7784\n",
      "Epoch 92/100\n",
      "344/344 [==============================] - 4s 11ms/step - loss: 0.1862 - accuracy: 0.9329 - val_loss: 1.0737 - val_accuracy: 0.7686\n",
      "Epoch 93/100\n",
      "344/344 [==============================] - 4s 11ms/step - loss: 0.1759 - accuracy: 0.9366 - val_loss: 1.0347 - val_accuracy: 0.7719\n",
      "Epoch 94/100\n",
      "344/344 [==============================] - 4s 11ms/step - loss: 0.1793 - accuracy: 0.9356 - val_loss: 1.0743 - val_accuracy: 0.7727\n",
      "Epoch 95/100\n",
      "344/344 [==============================] - 4s 11ms/step - loss: 0.1747 - accuracy: 0.9348 - val_loss: 1.0279 - val_accuracy: 0.7825\n",
      "Epoch 96/100\n",
      "344/344 [==============================] - 4s 11ms/step - loss: 0.1772 - accuracy: 0.9350 - val_loss: 1.0493 - val_accuracy: 0.7784\n",
      "Epoch 97/100\n",
      "344/344 [==============================] - 4s 11ms/step - loss: 0.1745 - accuracy: 0.9353 - val_loss: 1.0724 - val_accuracy: 0.7743\n",
      "Epoch 98/100\n",
      "344/344 [==============================] - 4s 11ms/step - loss: 0.1732 - accuracy: 0.9385 - val_loss: 1.0610 - val_accuracy: 0.7735\n",
      "Epoch 99/100\n",
      "344/344 [==============================] - 4s 11ms/step - loss: 0.1668 - accuracy: 0.9388 - val_loss: 1.0818 - val_accuracy: 0.7809\n",
      "Epoch 100/100\n",
      "344/344 [==============================] - 4s 12ms/step - loss: 0.1738 - accuracy: 0.9378 - val_loss: 1.0706 - val_accuracy: 0.7784\n",
      "Training time (minutes):  6.41\n"
     ]
    }
   ],
   "source": [
    "start = time.time()\n",
    "# train the model\n",
    "hist = glove_model.fit(train_padded_docs, Y_train, epochs=100, validation_split=0.1)\n",
    "\n",
    "print(\"Training time (minutes): \",(round((time.time()-start)/60, 2)))"
   ]
  },
  {
   "cell_type": "code",
   "execution_count": 78,
   "metadata": {},
   "outputs": [
    {
     "name": "stdout",
     "output_type": "stream",
     "text": [
      "Train Accuracy: 0.948    Loss: 0.173\n",
      "Test Accuracy:  0.742    Loss: 1.162\n"
     ]
    }
   ],
   "source": [
    "# evaluate the model\n",
    "train_accr = glove_model.evaluate(train_padded_docs, Y_train, verbose=0)\n",
    "test_accr = glove_model.evaluate(test_padded_docs, Y_test, verbose=0)\n",
    "\n",
    "print(\"Train Accuracy: {:0.3f}    Loss: {:0.3f}\".format(train_accr[1], train_accr[0]))\n",
    "print(\"Test Accuracy:  {:0.3f}    Loss: {:0.3f}\".format(test_accr[1], test_accr[0]))"
   ]
  },
  {
   "cell_type": "code",
   "execution_count": 79,
   "metadata": {},
   "outputs": [
    {
     "data": {
      "image/png": "[encoded data removed]",
      "text/plain": [
       "<Figure size 864x432 with 2 Axes>"
      ]
     },
     "metadata": {
      "needs_background": "light"
     },
     "output_type": "display_data"
    }
   ],
   "source": [
    "fig, axis = plt.subplots(1,2, figsize=(12, 6))\n",
    "# plot the loss\n",
    "axis[0].set_title(\"Loss\")\n",
    "axis[0].plot(email_hist.history['loss'], label='train')\n",
    "axis[0].plot(email_hist.history['val_loss'], label='validation')\n",
    "axis[0].legend()\n",
    "axis[0].set_xlabel('Epochs')\n",
    "axis[0].set_ylabel(\"Loss\")\n",
    "\n",
    "# plot the accuracy\n",
    "axis[1].set_title(\"Accuracy\")\n",
    "axis[1].plot(email_hist.history['accuracy'], label='train')\n",
    "axis[1].plot(email_hist.history['val_accuracy'], label='validation')\n",
    "axis[1].legend()\n",
    "axis[1].set_xlabel('Epochs')\n",
    "axis[1].set_ylabel(\"Accuracy\")\n",
    "\n",
    "plt.show()"
   ]
  },
  {
   "cell_type": "code",
   "execution_count": 80,
   "metadata": {},
   "outputs": [],
   "source": [
    "# Transfer learning with Gensim\n",
    "\n",
    "# https://github.com/RaRe-Technologies/gensim-data"
   ]
  },
  {
   "cell_type": "code",
   "execution_count": 81,
   "metadata": {},
   "outputs": [],
   "source": [
    "import gensim\n",
    "import gensim.downloader as api"
   ]
  },
  {
   "cell_type": "code",
   "execution_count": 82,
   "metadata": {},
   "outputs": [
    {
     "data": {
      "text/html": [
       "<div>\n",
       "<style scoped>\n",
       "    .dataframe tbody tr th:only-of-type {\n",
       "        vertical-align: middle;\n",
       "    }\n",
       "\n",
       "    .dataframe tbody tr th {\n",
       "        vertical-align: top;\n",
       "    }\n",
       "\n",
       "    .dataframe thead th {\n",
       "        text-align: right;\n",
       "    }\n",
       "</style>\n",
       "<table border=\"1\" class=\"dataframe\">\n",
       "  <thead>\n",
       "    <tr style=\"text-align: right;\">\n",
       "      <th></th>\n",
       "      <th>corpora</th>\n",
       "      <th>models</th>\n",
       "    </tr>\n",
       "  </thead>\n",
       "  <tbody>\n",
       "    <tr>\n",
       "      <th>semeval-2016-2017-task3-subtaskBC</th>\n",
       "      <td>{'num_records': -1, 'record_format': 'dict', '...</td>\n",
       "      <td>NaN</td>\n",
       "    </tr>\n",
       "    <tr>\n",
       "      <th>semeval-2016-2017-task3-subtaskA-unannotated</th>\n",
       "      <td>{'num_records': 189941, 'record_format': 'dict...</td>\n",
       "      <td>NaN</td>\n",
       "    </tr>\n",
       "    <tr>\n",
       "      <th>patent-2017</th>\n",
       "      <td>{'num_records': 353197, 'record_format': 'dict...</td>\n",
       "      <td>NaN</td>\n",
       "    </tr>\n",
       "    <tr>\n",
       "      <th>quora-duplicate-questions</th>\n",
       "      <td>{'num_records': 404290, 'record_format': 'dict...</td>\n",
       "      <td>NaN</td>\n",
       "    </tr>\n",
       "    <tr>\n",
       "      <th>wiki-english-20171001</th>\n",
       "      <td>{'num_records': 4924894, 'record_format': 'dic...</td>\n",
       "      <td>NaN</td>\n",
       "    </tr>\n",
       "    <tr>\n",
       "      <th>text8</th>\n",
       "      <td>{'num_records': 1701, 'record_format': 'list o...</td>\n",
       "      <td>NaN</td>\n",
       "    </tr>\n",
       "    <tr>\n",
       "      <th>fake-news</th>\n",
       "      <td>{'num_records': 12999, 'record_format': 'dict'...</td>\n",
       "      <td>NaN</td>\n",
       "    </tr>\n",
       "    <tr>\n",
       "      <th>20-newsgroups</th>\n",
       "      <td>{'num_records': 18846, 'record_format': 'dict'...</td>\n",
       "      <td>NaN</td>\n",
       "    </tr>\n",
       "    <tr>\n",
       "      <th>__testing_matrix-synopsis</th>\n",
       "      <td>{'description': '[THIS IS ONLY FOR TESTING] Sy...</td>\n",
       "      <td>NaN</td>\n",
       "    </tr>\n",
       "    <tr>\n",
       "      <th>__testing_multipart-matrix-synopsis</th>\n",
       "      <td>{'description': '[THIS IS ONLY FOR TESTING] Sy...</td>\n",
       "      <td>NaN</td>\n",
       "    </tr>\n",
       "    <tr>\n",
       "      <th>fasttext-wiki-news-subwords-300</th>\n",
       "      <td>NaN</td>\n",
       "      <td>{'num_records': 999999, 'file_size': 100500711...</td>\n",
       "    </tr>\n",
       "    <tr>\n",
       "      <th>conceptnet-numberbatch-17-06-300</th>\n",
       "      <td>NaN</td>\n",
       "      <td>{'num_records': 1917247, 'file_size': 12254975...</td>\n",
       "    </tr>\n",
       "    <tr>\n",
       "      <th>word2vec-ruscorpora-300</th>\n",
       "      <td>NaN</td>\n",
       "      <td>{'num_records': 184973, 'file_size': 208427381...</td>\n",
       "    </tr>\n",
       "    <tr>\n",
       "      <th>word2vec-google-news-300</th>\n",
       "      <td>NaN</td>\n",
       "      <td>{'num_records': 3000000, 'file_size': 17435638...</td>\n",
       "    </tr>\n",
       "    <tr>\n",
       "      <th>glove-wiki-gigaword-50</th>\n",
       "      <td>NaN</td>\n",
       "      <td>{'num_records': 400000, 'file_size': 69182535,...</td>\n",
       "    </tr>\n",
       "    <tr>\n",
       "      <th>glove-wiki-gigaword-100</th>\n",
       "      <td>NaN</td>\n",
       "      <td>{'num_records': 400000, 'file_size': 134300434...</td>\n",
       "    </tr>\n",
       "    <tr>\n",
       "      <th>glove-wiki-gigaword-200</th>\n",
       "      <td>NaN</td>\n",
       "      <td>{'num_records': 400000, 'file_size': 264336934...</td>\n",
       "    </tr>\n",
       "    <tr>\n",
       "      <th>glove-wiki-gigaword-300</th>\n",
       "      <td>NaN</td>\n",
       "      <td>{'num_records': 400000, 'file_size': 394362229...</td>\n",
       "    </tr>\n",
       "    <tr>\n",
       "      <th>glove-twitter-25</th>\n",
       "      <td>NaN</td>\n",
       "      <td>{'num_records': 1193514, 'file_size': 10988500...</td>\n",
       "    </tr>\n",
       "    <tr>\n",
       "      <th>glove-twitter-50</th>\n",
       "      <td>NaN</td>\n",
       "      <td>{'num_records': 1193514, 'file_size': 20921693...</td>\n",
       "    </tr>\n",
       "    <tr>\n",
       "      <th>glove-twitter-100</th>\n",
       "      <td>NaN</td>\n",
       "      <td>{'num_records': 1193514, 'file_size': 40593299...</td>\n",
       "    </tr>\n",
       "    <tr>\n",
       "      <th>glove-twitter-200</th>\n",
       "      <td>NaN</td>\n",
       "      <td>{'num_records': 1193514, 'file_size': 79537310...</td>\n",
       "    </tr>\n",
       "    <tr>\n",
       "      <th>__testing_word2vec-matrix-synopsis</th>\n",
       "      <td>NaN</td>\n",
       "      <td>{'description': '[THIS IS ONLY FOR TESTING] Wo...</td>\n",
       "    </tr>\n",
       "  </tbody>\n",
       "</table>\n",
       "</div>"
      ],
      "text/plain": [
       "                                                                                        corpora  \\\n",
       "semeval-2016-2017-task3-subtaskBC             {'num_records': -1, 'record_format': 'dict', '...   \n",
       "semeval-2016-2017-task3-subtaskA-unannotated  {'num_records': 189941, 'record_format': 'dict...   \n",
       "patent-2017                                   {'num_records': 353197, 'record_format': 'dict...   \n",
       "quora-duplicate-questions                     {'num_records': 404290, 'record_format': 'dict...   \n",
       "wiki-english-20171001                         {'num_records': 4924894, 'record_format': 'dic...   \n",
       "text8                                         {'num_records': 1701, 'record_format': 'list o...   \n",
       "fake-news                                     {'num_records': 12999, 'record_format': 'dict'...   \n",
       "20-newsgroups                                 {'num_records': 18846, 'record_format': 'dict'...   \n",
       "__testing_matrix-synopsis                     {'description': '[THIS IS ONLY FOR TESTING] Sy...   \n",
       "__testing_multipart-matrix-synopsis           {'description': '[THIS IS ONLY FOR TESTING] Sy...   \n",
       "fasttext-wiki-news-subwords-300                                                             NaN   \n",
       "conceptnet-numberbatch-17-06-300                                                            NaN   \n",
       "word2vec-ruscorpora-300                                                                     NaN   \n",
       "word2vec-google-news-300                                                                    NaN   \n",
       "glove-wiki-gigaword-50                                                                      NaN   \n",
       "glove-wiki-gigaword-100                                                                     NaN   \n",
       "glove-wiki-gigaword-200                                                                     NaN   \n",
       "glove-wiki-gigaword-300                                                                     NaN   \n",
       "glove-twitter-25                                                                            NaN   \n",
       "glove-twitter-50                                                                            NaN   \n",
       "glove-twitter-100                                                                           NaN   \n",
       "glove-twitter-200                                                                           NaN   \n",
       "__testing_word2vec-matrix-synopsis                                                          NaN   \n",
       "\n",
       "                                                                                         models  \n",
       "semeval-2016-2017-task3-subtaskBC                                                           NaN  \n",
       "semeval-2016-2017-task3-subtaskA-unannotated                                                NaN  \n",
       "patent-2017                                                                                 NaN  \n",
       "quora-duplicate-questions                                                                   NaN  \n",
       "wiki-english-20171001                                                                       NaN  \n",
       "text8                                                                                       NaN  \n",
       "fake-news                                                                                   NaN  \n",
       "20-newsgroups                                                                               NaN  \n",
       "__testing_matrix-synopsis                                                                   NaN  \n",
       "__testing_multipart-matrix-synopsis                                                         NaN  \n",
       "fasttext-wiki-news-subwords-300               {'num_records': 999999, 'file_size': 100500711...  \n",
       "conceptnet-numberbatch-17-06-300              {'num_records': 1917247, 'file_size': 12254975...  \n",
       "word2vec-ruscorpora-300                       {'num_records': 184973, 'file_size': 208427381...  \n",
       "word2vec-google-news-300                      {'num_records': 3000000, 'file_size': 17435638...  \n",
       "glove-wiki-gigaword-50                        {'num_records': 400000, 'file_size': 69182535,...  \n",
       "glove-wiki-gigaword-100                       {'num_records': 400000, 'file_size': 134300434...  \n",
       "glove-wiki-gigaword-200                       {'num_records': 400000, 'file_size': 264336934...  \n",
       "glove-wiki-gigaword-300                       {'num_records': 400000, 'file_size': 394362229...  \n",
       "glove-twitter-25                              {'num_records': 1193514, 'file_size': 10988500...  \n",
       "glove-twitter-50                              {'num_records': 1193514, 'file_size': 20921693...  \n",
       "glove-twitter-100                             {'num_records': 1193514, 'file_size': 40593299...  \n",
       "glove-twitter-200                             {'num_records': 1193514, 'file_size': 79537310...  \n",
       "__testing_word2vec-matrix-synopsis            {'description': '[THIS IS ONLY FOR TESTING] Wo...  "
      ]
     },
     "execution_count": 82,
     "metadata": {},
     "output_type": "execute_result"
    }
   ],
   "source": [
    "info = api.info()\n",
    "pd.DataFrame(info)"
   ]
  },
  {
   "cell_type": "code",
   "execution_count": null,
   "metadata": {},
   "outputs": [],
   "source": []
  }
 ],
 "metadata": {
  "kernelspec": {
   "display_name": "Python 3",
   "language": "python",
   "name": "python3"
  },
  "language_info": {
   "codemirror_mode": {
    "name": "ipython",
    "version": 3
   },
   "file_extension": ".py",
   "mimetype": "text/x-python",
   "name": "python",
   "nbconvert_exporter": "python",
   "pygments_lexer": "ipython3",
   "version": "3.8.8"
  }
 },
 "nbformat": 4,
 "nbformat_minor": 4
}
