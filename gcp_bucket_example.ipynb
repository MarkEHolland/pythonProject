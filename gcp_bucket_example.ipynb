{
 "cells": [
  {
   "cell_type": "markdown",
   "id": "4ce6c823",
   "metadata": {},
   "source": [
    "# Cloud Storage Client Library"
   ]
  },
  {
   "cell_type": "markdown",
   "id": "1275184c",
   "metadata": {},
   "source": [
    "Buckets are basic containers to hold your data"
   ]
  },
  {
   "cell_type": "code",
   "execution_count": 26,
   "id": "bcd7cba6",
   "metadata": {},
   "outputs": [],
   "source": [
    "from google.cloud import storage"
   ]
  },
  {
   "cell_type": "markdown",
   "id": "8cf4a496",
   "metadata": {},
   "source": [
    "### Create a storage bucket"
   ]
  },
  {
   "cell_type": "code",
   "execution_count": 27,
   "id": "f7b72875",
   "metadata": {},
   "outputs": [
    {
     "name": "stdout",
     "output_type": "stream",
     "text": [
      "Client created using default project pythonproject-330909\n"
     ]
    }
   ],
   "source": [
    "client = storage.Client()\n",
    "print(f\"Client created using default project {client.project}\")"
   ]
  },
  {
   "cell_type": "markdown",
   "id": "867a58f5",
   "metadata": {},
   "source": [
    "To explicitly specifcy a project when constructing the client, set the project parameter"
   ]
  },
  {
   "cell_type": "code",
   "execution_count": 28,
   "id": "4fd2e49a",
   "metadata": {},
   "outputs": [],
   "source": [
    "# client = storage.Client(project='your-project-id')"
   ]
  },
  {
   "cell_type": "markdown",
   "id": "a491e5e4",
   "metadata": {},
   "source": [
    "Create a bucket with a globally unique name"
   ]
  },
  {
   "cell_type": "code",
   "execution_count": 30,
   "id": "e868c855",
   "metadata": {},
   "outputs": [
    {
     "name": "stdout",
     "output_type": "stream",
     "text": [
      "Bucket mybucket_1234_start4 created.\n"
     ]
    }
   ],
   "source": [
    "bucket_name = \"mybucket_1234_start4\"\n",
    "bucket=client.create_bucket(bucket_name)\n",
    "print(f\"Bucket {bucket.name} created.\")"
   ]
  },
  {
   "cell_type": "markdown",
   "id": "59c77d77",
   "metadata": {},
   "source": [
    "### Create a custom bucket"
   ]
  },
  {
   "cell_type": "code",
   "execution_count": 33,
   "id": "1de41d12",
   "metadata": {},
   "outputs": [],
   "source": [
    "def create_bucket_class_location(bucket_name):\n",
    "    \"\"\"\n",
    "    Create a new bucket in the US region with the coldline storage\n",
    "    class\n",
    "    \"\"\"\n",
    "    # bucket_name = \"your-new-bucket-name\"\n",
    "\n",
    "    storage_client = storage.Client()\n",
    "\n",
    "    bucket = storage_client.bucket(bucket_name)\n",
    "    bucket.storage_class = \"COLDLINE\"\n",
    "    new_bucket = storage_client.create_bucket(bucket, location=\"us\")\n",
    "\n",
    "    print(\n",
    "        \"Created bucket {} in {} with storage class {}\".format(\n",
    "            new_bucket.name, new_bucket.location, new_bucket.storage_class\n",
    "        )\n",
    "    )\n",
    "    return new_bucket"
   ]
  },
  {
   "cell_type": "code",
   "execution_count": null,
   "id": "40a3ddc1",
   "metadata": {},
   "outputs": [],
   "source": []
  },
  {
   "cell_type": "markdown",
   "id": "a5f48e1f",
   "metadata": {},
   "source": [
    "### List buckets in a project"
   ]
  },
  {
   "cell_type": "code",
   "execution_count": 31,
   "id": "9228e4a2",
   "metadata": {},
   "outputs": [
    {
     "name": "stdout",
     "output_type": "stream",
     "text": [
      "Buckets in pythonproject-330909:\n",
      "\tdata-bucket-1310\n",
      "\tdata-bucket-13101\n",
      "\tmybucket_1234_start\n",
      "\tmybucket_1234_start1\n",
      "\tmybucket_1234_start2\n",
      "\tmybucket_1234_start3\n",
      "\tmybucket_1234_start4\n",
      "\tpythonproject-330909\n"
     ]
    }
   ],
   "source": [
    "buckets = client.list_buckets()\n",
    "print(f\"Buckets in {client.project}:\")\n",
    "for item in buckets:\n",
    "    print(\"\\t\" + item.name)"
   ]
  },
  {
   "cell_type": "markdown",
   "id": "78975f0c",
   "metadata": {},
   "source": [
    "# Get bucket metadata"
   ]
  },
  {
   "cell_type": "code",
   "execution_count": 32,
   "id": "8ad6f8ea",
   "metadata": {},
   "outputs": [
    {
     "name": "stdout",
     "output_type": "stream",
     "text": [
      "Bucket name: mybucket_1234_start4\n",
      "Bucket location: US\n",
      "Bucket storage class: STANDARD\n"
     ]
    }
   ],
   "source": [
    "bucket = client.get_bucket(bucket_name)\n",
    "print(f\"Bucket name: {bucket.name}\")\n",
    "print(f\"Bucket location: {bucket.location}\")\n",
    "print(f\"Bucket storage class: {bucket.storage_class}\")"
   ]
  },
  {
   "cell_type": "markdown",
   "id": "088ad8f9",
   "metadata": {},
   "source": [
    "# Upload a local file to a bucket"
   ]
  },
  {
   "cell_type": "markdown",
   "id": "a2a966b8",
   "metadata": {},
   "source": [
    "objects are individual pieces of data that you store. They are referred to as 'blobs' in the Python client library"
   ]
  },
  {
   "cell_type": "code",
   "execution_count": 37,
   "id": "2e4925c1",
   "metadata": {},
   "outputs": [
    {
     "name": "stdout",
     "output_type": "stream",
     "text": [
      "File uploaded to mybucket_1234_start4\n"
     ]
    }
   ],
   "source": [
    "blob_name = \"kitten.png\"\n",
    "blob = bucket.blob(blob_name)\n",
    "\n",
    "source_file_name = \"./resources/kitten.png\"\n",
    "blob.upload_from_filename(source_file_name)\n",
    "\n",
    "print(f\"File uploaded to {bucket.name}\")"
   ]
  },
  {
   "cell_type": "markdown",
   "id": "096ce380",
   "metadata": {},
   "source": [
    "# List blobs in a bucket"
   ]
  },
  {
   "cell_type": "code",
   "execution_count": 41,
   "id": "1d4243bf",
   "metadata": {},
   "outputs": [
    {
     "name": "stdout",
     "output_type": "stream",
     "text": [
      "Blobs in mybucket_1234_start4\n",
      "\tkitten.png\n"
     ]
    }
   ],
   "source": [
    "blobs = bucket.list_blobs()\n",
    "\n",
    "print(f\"Blobs in {bucket.name}\")\n",
    "for item in blobs:\n",
    "    print(\"\\t\" + item.name)"
   ]
  },
  {
   "cell_type": "markdown",
   "id": "148ddb27",
   "metadata": {},
   "source": [
    "# Get a blob and display metadata"
   ]
  },
  {
   "cell_type": "markdown",
   "id": "48a3ca91",
   "metadata": {},
   "source": [
    "More information Cloud Storage > Documentation > Guides > Viewing and editing object metadata"
   ]
  },
  {
   "cell_type": "code",
   "execution_count": 46,
   "id": "5a1fb6f5",
   "metadata": {},
   "outputs": [
    {
     "name": "stdout",
     "output_type": "stream",
     "text": [
      "Name mybucket_1234_start4/kitten.png/1640016190366270\n",
      "Size 132907 bytes\n",
      "Size image/png bytes\n",
      "Size https://storage.googleapis.com/mybucket_1234_start4/kitten.png bytes\n"
     ]
    }
   ],
   "source": [
    "blob = bucket.get_blob(blob_name)\n",
    "\n",
    "print(f\"Name {blob.id}\")\n",
    "print(f\"Size {blob.size} bytes\")\n",
    "print(f\"Size {blob.content_type} bytes\")\n",
    "print(f\"Size {blob.public_url} bytes\")"
   ]
  },
  {
   "cell_type": "markdown",
   "id": "21858cd9",
   "metadata": {},
   "source": [
    "# Download a blob to a local directory"
   ]
  },
  {
   "cell_type": "code",
   "execution_count": 47,
   "id": "a0d4f005",
   "metadata": {},
   "outputs": [
    {
     "name": "stdout",
     "output_type": "stream",
     "text": [
      "Downloaded blob kitten.png to resources/downloaded-kitten.png\n"
     ]
    }
   ],
   "source": [
    "output_file_name = \"resources/downloaded-kitten.png\"\n",
    "blob.download_to_filename(output_file_name)\n",
    "\n",
    "print(f\"Downloaded blob {blob.name} to {output_file_name}\")"
   ]
  },
  {
   "cell_type": "markdown",
   "id": "4cd5481a",
   "metadata": {},
   "source": [
    "# Cleaning Up"
   ]
  },
  {
   "cell_type": "markdown",
   "id": "a800a6e0",
   "metadata": {},
   "source": [
    "Delete a blob"
   ]
  },
  {
   "cell_type": "code",
   "execution_count": 48,
   "id": "d42af434",
   "metadata": {},
   "outputs": [],
   "source": [
    "blob = client.get_bucket(bucket_name).get_blob(blob_name)"
   ]
  },
  {
   "cell_type": "code",
   "execution_count": 50,
   "id": "1ce83def",
   "metadata": {},
   "outputs": [],
   "source": [
    "blob.delete()"
   ]
  },
  {
   "cell_type": "code",
   "execution_count": 51,
   "id": "e05f1919",
   "metadata": {},
   "outputs": [
    {
     "name": "stdout",
     "output_type": "stream",
     "text": [
      "Blob kitten.png deleted.\n"
     ]
    }
   ],
   "source": [
    "print(f\"Blob {blob.name} deleted.\")"
   ]
  },
  {
   "cell_type": "markdown",
   "id": "a5605bf1",
   "metadata": {},
   "source": [
    "Delete a bucket"
   ]
  },
  {
   "cell_type": "code",
   "execution_count": 57,
   "id": "180d78e7",
   "metadata": {},
   "outputs": [],
   "source": [
    "bucket_name = \"mybucket_1234_start1\""
   ]
  },
  {
   "cell_type": "code",
   "execution_count": 58,
   "id": "e04b8bf7",
   "metadata": {},
   "outputs": [
    {
     "name": "stdout",
     "output_type": "stream",
     "text": [
      "Bucket mybucket_1234_start1 deleted\n"
     ]
    }
   ],
   "source": [
    "bucket = client.get_bucket(bucket_name)\n",
    "bucket.delete()\n",
    "\n",
    "print(f\"Bucket {bucket.name} deleted\")"
   ]
  },
  {
   "cell_type": "code",
   "execution_count": null,
   "id": "7cff0e12",
   "metadata": {},
   "outputs": [],
   "source": []
  }
 ],
 "metadata": {
  "jupytext": {
   "cell_metadata_filter": "-all",
   "formats": "ipynb,auto:light",
   "notebook_metadata_filter": "-all"
  },
  "kernelspec": {
   "display_name": "Python 3 (ipykernel)",
   "language": "python",
   "name": "python3"
  },
  "language_info": {
   "codemirror_mode": {
    "name": "ipython",
    "version": 3
   },
   "file_extension": ".py",
   "mimetype": "text/x-python",
   "name": "python",
   "nbconvert_exporter": "python",
   "pygments_lexer": "ipython3",
   "version": "3.8.12"
  }
 },
 "nbformat": 4,
 "nbformat_minor": 5
}
